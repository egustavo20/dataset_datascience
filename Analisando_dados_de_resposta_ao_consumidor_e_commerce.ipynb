{
  "nbformat": 4,
  "nbformat_minor": 0,
  "metadata": {
    "colab": {
      "name": "Analisando dados de resposta ao consumidor e-commerce.ipynb",
      "provenance": [],
      "authorship_tag": "ABX9TyMS6I645mNKTgFs8bjErHNu",
      "include_colab_link": true
    },
    "kernelspec": {
      "name": "python3",
      "display_name": "Python 3"
    }
  },
  "cells": [
    {
      "cell_type": "markdown",
      "metadata": {
        "id": "view-in-github",
        "colab_type": "text"
      },
      "source": [
        "<a href=\"https://colab.research.google.com/github/egustavo20/dataset_datascience/blob/master/Analisando_dados_de_resposta_ao_consumidor_e_commerce.ipynb\" target=\"_parent\"><img src=\"https://colab.research.google.com/assets/colab-badge.svg\" alt=\"Open In Colab\"/></a>"
      ]
    },
    {
      "cell_type": "markdown",
      "metadata": {
        "id": "keVSk8BgBeBB"
      },
      "source": [
        "#Analisando dados de resposta ao consumidor e-commerce\r\n",
        "\r\n",
        "Em meio ao avanço tecnológico acelerado em um nível absurdo, a forma de consumo modificou e nem nos demos conta de que o e-commerce, ou comércio eletrônico, refere-se às vendas pela internet mais especificamente. Virou uma realidade necessária em nossos dias, principalmente diante do cenário pandêmico que nos encontramos. Onde o modelo de negócio se consolidou, alcançando um número maior de pessoas que adotaram o formato de consumo, devido às restrições de acesso físico que atingiu praticamente todos os tipos de comércio, se fez necessário uma adaptação a um modelo que já existia, porém que não era utilizado por todos os públicos.\r\n",
        "\r\n",
        "\r\n",
        "<img alt=\"Colaboratory logo\" width=\"1.5%\" src=\"https://image.flaticon.com/icons/png/512/174/174857.png\"> by [egustavo](https://www.linkedin.com/in/elcio-gustavo-soares-de-araujo-74a22068/)\r\n",
        "\r\n",
        " <img alt=\"Colaboratory logo\" width=\"8.5%\" src=\"https://raw.githubusercontent.com/carlosfab/escola-data-science/master/img/novo_logo_bg_claro.png\"> by [Data Science na Prática 2.0](https://sigmoidal.ai)\r\n",
        "\r\n",
        "---\r\n",
        "<img alt=\"Capa\" width=\"150.0%\" src=\"https://image.freepik.com/fotos-gratis/caixas-de-pacote-do-produto-e-sacola-de-compras-no-carrinho-com-laptop-para-compras-on-line-e-conceito-de-entrega_38716-138.jpg\">\r\n",
        "\r\n",
        "\r\n",
        "\r\n",
        "E quando falamos de consumo, sempre teremos o ponto de satisfação do cliente, interlocução direta entre consumidores e empresas. Pois atender a expectativa do cliente garantindo a qualidade no serviço prestado, ou na entrega do produto, é o que torna a empresa competitiva no mercado. Para isso temos, áreas dedicadas com um trabalho importantíssimo de canais de reclamação, garantindo que todos os direitos do consumidor estejam sendo analisado.\r\n",
        "<center><img alt=\"Analisando Airbnb\" width=\"39%\" src=\"https://static.wixstatic.com/media/828e1e_62325403967345d6a46dea977caf20bd~mv2.png/v1/fill/w_1275,h_456,al_c/828e1e_62325403967345d6a46dea977caf20bd~mv2.png\"></center>\r\n",
        "\r\n",
        "**Neste *notebook*, iremos analisar os dados da base de disponibilização e manutenção do [`Consumidor.gov.br`](https://consumidor.gov.br/pages/principal/?1613536289346) para compreender, e avaliar a dinamica de prestação de serviço das empresas, para suporte e reparo da insatisfação de um serviço ou produto entregue ao consumidor.**"
      ]
    },
    {
      "cell_type": "markdown",
      "metadata": {
        "id": "mHZh7glACVoK"
      },
      "source": [
        "## Obtenção de dados\r\n",
        "Os dados foram obtidos diretamente do portal de Dados.MJ (MINISTÉRIO DA JUSTIÇA) o mesmo é acompanhado pela secretaria nacional do consumidor. Que tem como responsabilidade, promover, supervisionar e coordenar a política nacional de proteção e defesa do consumidor em âmbito nacional. "
      ]
    },
    {
      "cell_type": "markdown",
      "metadata": {
        "id": "hW4-DTTKlEal"
      },
      "source": [
        "### Importando os dados"
      ]
    },
    {
      "cell_type": "code",
      "metadata": {
        "id": "k0h0-y1aRSph"
      },
      "source": [
        "#Importando as bibliotecas\r\n",
        "import pandas as pd\r\n",
        "import matplotlib.pyplot as plt\r\n",
        "import seaborn as sns\r\n",
        "import numpy as np\r\n",
        "%matplotlib inline"
      ],
      "execution_count": 206,
      "outputs": []
    },
    {
      "cell_type": "code",
      "metadata": {
        "id": "HucNrf2ARV1v"
      },
      "source": [
        "#Importando o arquivo para montagem do Dataframe\r\n",
        "colum_rnome = ['Canal_de_Origem','Região','UF','Cidade','Sexo','Faixa_Etária','Data_Abertura',\r\n",
        "               'Data_Resposta','Prazo_Resposta','Nome_Fantasia','Área','Grupo_Problema',\r\n",
        "               'Problema','Procurou_Empresa','Respondida','Situação']\r\n",
        "\r\n",
        "df = pd.read_csv('/content/dataset_dados_consumidor_gov_2020_2021.csv',sep=';',encoding='cp1252',\r\n",
        "                 usecols=[1,2,3,4,5,6,9,10,14,17,19,21,22,24,25,26],names=colum_rnome,)\r\n",
        "df.drop(0,inplace = True)"
      ],
      "execution_count": 207,
      "outputs": []
    },
    {
      "cell_type": "markdown",
      "metadata": {
        "id": "JY-yM9OFNriR"
      },
      "source": [
        "**Dicionário das variáveis**\r\n",
        "\r\n",
        "* `Canal_de_Origem` - Meio de acesso, plataforma utilizada para consumo.\r\n",
        "* `Região` - Divisão regional do Brasil.\r\n",
        "* `UF` - Divisão de estado do Brasil.\r\n",
        "* `Cidade` - Divisão de cidades do Brasil. \r\n",
        "* `Sexo` - Status de genero.\r\n",
        "* `Faixa_Etária` - Intervalo de idade.\r\n",
        "* `Data_Abertura` - Data de abertura da notificação do consumidor.\r\n",
        "* `Data_Resposta` - Data de resposta da empresa.\r\n",
        "* `Prazo_Resposta` - Prazo de resposta, estipulado pela empresa.\r\n",
        "* `Nome_Fantasia` - Nome da empresa.\r\n",
        "* `Área` - Área de segmento da empresa.\r\n",
        "* `Grupo_Problema` - Categoria do problema informado pelo consumidor.\r\n",
        "* `Problema` - Subgrupo e detalhamento do problema informado pelo consumidor.\r\n",
        "* `Procurou_Empresa` - Consumidor procurou a empresa, após abertura da notificação.\r\n",
        "* `Respondida` - A empresa respondeu a tentativa de contato.\r\n",
        "* `Situação` - Status de fechamento da notificação.\r\n"
      ]
    },
    {
      "cell_type": "markdown",
      "metadata": {
        "id": "rnjmARM1JrCD"
      },
      "source": [
        "Após compreendermos no dicionário o resumo de cada variável, iremos mostrar as primeiras entradas do nosso dataset que é a carga consolidada do periodo de 08/2020 á 01/2021 do arquivo `consumidor.gov.br.csv` conforme informdo anteriormente. "
      ]
    },
    {
      "cell_type": "code",
      "metadata": {
        "colab": {
          "base_uri": "https://localhost:8080/",
          "height": 479
        },
        "id": "FguAA0w9_uSI",
        "outputId": "db86890e-3b07-435b-cced-389b0e969898"
      },
      "source": [
        "# verificando as 5 primeiras entradas do dataset\r\n",
        "df.head()"
      ],
      "execution_count": 208,
      "outputs": [
        {
          "output_type": "execute_result",
          "data": {
            "text/html": [
              "<div>\n",
              "<style scoped>\n",
              "    .dataframe tbody tr th:only-of-type {\n",
              "        vertical-align: middle;\n",
              "    }\n",
              "\n",
              "    .dataframe tbody tr th {\n",
              "        vertical-align: top;\n",
              "    }\n",
              "\n",
              "    .dataframe thead th {\n",
              "        text-align: right;\n",
              "    }\n",
              "</style>\n",
              "<table border=\"1\" class=\"dataframe\">\n",
              "  <thead>\n",
              "    <tr style=\"text-align: right;\">\n",
              "      <th></th>\n",
              "      <th>Canal_de_Origem</th>\n",
              "      <th>Região</th>\n",
              "      <th>UF</th>\n",
              "      <th>Cidade</th>\n",
              "      <th>Sexo</th>\n",
              "      <th>Faixa_Etária</th>\n",
              "      <th>Data_Abertura</th>\n",
              "      <th>Data_Resposta</th>\n",
              "      <th>Prazo_Resposta</th>\n",
              "      <th>Nome_Fantasia</th>\n",
              "      <th>Área</th>\n",
              "      <th>Grupo_Problema</th>\n",
              "      <th>Problema</th>\n",
              "      <th>Procurou_Empresa</th>\n",
              "      <th>Respondida</th>\n",
              "      <th>Situação</th>\n",
              "    </tr>\n",
              "  </thead>\n",
              "  <tbody>\n",
              "    <tr>\n",
              "      <th>1</th>\n",
              "      <td>Plataforma IOS</td>\n",
              "      <td>N</td>\n",
              "      <td>AC</td>\n",
              "      <td>Rio Branco</td>\n",
              "      <td>M</td>\n",
              "      <td>entre 31 a 40 anos</td>\n",
              "      <td>26/06/2020</td>\n",
              "      <td>11/07/2020</td>\n",
              "      <td>11/07/2020</td>\n",
              "      <td>SKY</td>\n",
              "      <td>Telecomunicações</td>\n",
              "      <td>Cobrança / Contestação</td>\n",
              "      <td>Negativação indevida (SPC, Serasa, SCPC etc)</td>\n",
              "      <td>N</td>\n",
              "      <td>S</td>\n",
              "      <td>Finalizada não avaliada</td>\n",
              "    </tr>\n",
              "    <tr>\n",
              "      <th>2</th>\n",
              "      <td>Plataforma Web</td>\n",
              "      <td>N</td>\n",
              "      <td>AC</td>\n",
              "      <td>Xapuri</td>\n",
              "      <td>M</td>\n",
              "      <td>entre 41 a 50 anos</td>\n",
              "      <td>26/06/2020</td>\n",
              "      <td>NaN</td>\n",
              "      <td>11/07/2020</td>\n",
              "      <td>Banco Industrial do Brasil (BIB)</td>\n",
              "      <td>Serviços Financeiros</td>\n",
              "      <td>Atendimento / SAC</td>\n",
              "      <td>SAC - Dificuldadede de contato / acesso</td>\n",
              "      <td>N</td>\n",
              "      <td>N</td>\n",
              "      <td>Finalizada não avaliada</td>\n",
              "    </tr>\n",
              "    <tr>\n",
              "      <th>3</th>\n",
              "      <td>Plataforma Web</td>\n",
              "      <td>N</td>\n",
              "      <td>AC</td>\n",
              "      <td>Cruzeiro do Sul</td>\n",
              "      <td>M</td>\n",
              "      <td>entre 21 a 30 anos</td>\n",
              "      <td>26/06/2020</td>\n",
              "      <td>11/07/2020</td>\n",
              "      <td>11/07/2020</td>\n",
              "      <td>Pag!</td>\n",
              "      <td>Serviços Financeiros</td>\n",
              "      <td>Cobrança / Contestação</td>\n",
              "      <td>Renegociação / parcelamento de dívida</td>\n",
              "      <td>S</td>\n",
              "      <td>S</td>\n",
              "      <td>Finalizada não avaliada</td>\n",
              "    </tr>\n",
              "    <tr>\n",
              "      <th>4</th>\n",
              "      <td>Plataforma Web</td>\n",
              "      <td>N</td>\n",
              "      <td>AC</td>\n",
              "      <td>Rio Branco</td>\n",
              "      <td>F</td>\n",
              "      <td>entre 31 a 40 anos</td>\n",
              "      <td>29/06/2020</td>\n",
              "      <td>14/07/2020</td>\n",
              "      <td>14/07/2020</td>\n",
              "      <td>Banco Industrial do Brasil (BIB)</td>\n",
              "      <td>Serviços Financeiros</td>\n",
              "      <td>Atendimento / SAC</td>\n",
              "      <td>SAC - Dificuldade para cancelar o serviço</td>\n",
              "      <td>S</td>\n",
              "      <td>S</td>\n",
              "      <td>Finalizada não avaliada</td>\n",
              "    </tr>\n",
              "    <tr>\n",
              "      <th>5</th>\n",
              "      <td>Plataforma Web</td>\n",
              "      <td>N</td>\n",
              "      <td>AC</td>\n",
              "      <td>Rio Branco</td>\n",
              "      <td>M</td>\n",
              "      <td>entre 31 a 40 anos</td>\n",
              "      <td>29/06/2020</td>\n",
              "      <td>13/07/2020</td>\n",
              "      <td>14/07/2020</td>\n",
              "      <td>Móveis Gazin</td>\n",
              "      <td>Produtos Eletrodomésticos e Eletrônicos</td>\n",
              "      <td>Cobrança / Contestação</td>\n",
              "      <td>Negativação indevida (SPC, Serasa, SCPC etc)</td>\n",
              "      <td>S</td>\n",
              "      <td>S</td>\n",
              "      <td>Finalizada não avaliada</td>\n",
              "    </tr>\n",
              "  </tbody>\n",
              "</table>\n",
              "</div>"
            ],
            "text/plain": [
              "  Canal_de_Origem Região  ... Respondida                 Situação\n",
              "1  Plataforma IOS     N   ...          S  Finalizada não avaliada\n",
              "2  Plataforma Web     N   ...          N  Finalizada não avaliada\n",
              "3  Plataforma Web     N   ...          S  Finalizada não avaliada\n",
              "4  Plataforma Web     N   ...          S  Finalizada não avaliada\n",
              "5  Plataforma Web     N   ...          S  Finalizada não avaliada\n",
              "\n",
              "[5 rows x 16 columns]"
            ]
          },
          "metadata": {
            "tags": []
          },
          "execution_count": 208
        }
      ]
    },
    {
      "cell_type": "markdown",
      "metadata": {
        "id": "X8mv_gDSlQU-"
      },
      "source": [
        "## Análise Inicial dos Dados\r\n",
        "Antes de começarmos a explorar nosso dataset, é preciso saber com o que estamos lidando. Para começarmos a entender melhor esse aspecto, vamos verificar as dimensões do dataset."
      ]
    },
    {
      "cell_type": "code",
      "metadata": {
        "colab": {
          "base_uri": "https://localhost:8080/",
          "height": 357
        },
        "id": "obzVQqEoOmG-",
        "outputId": "3068de21-9486-4ef8-8f67-9568f11e4f0d"
      },
      "source": [
        "# identificando o volume de dados e os tipos das variáveis\r\n",
        "\r\n",
        "print(\"Variáveis: \\t {}\".format(df.shape[1]))\r\n",
        "print(\"Entradas:  \\t {} \\n\".format(df.shape[0]))\r\n",
        "\r\n",
        "display(df.dtypes)"
      ],
      "execution_count": 209,
      "outputs": [
        {
          "output_type": "stream",
          "text": [
            "Variáveis: \t 16\n",
            "Entradas:  \t 732865 \n",
            "\n"
          ],
          "name": "stdout"
        },
        {
          "output_type": "display_data",
          "data": {
            "text/plain": [
              "Canal_de_Origem     object\n",
              "Região              object\n",
              "UF                  object\n",
              "Cidade              object\n",
              "Sexo                object\n",
              "Faixa_Etária        object\n",
              "Data_Abertura       object\n",
              "Data_Resposta       object\n",
              "Prazo_Resposta      object\n",
              "Nome_Fantasia       object\n",
              "Área                object\n",
              "Grupo_Problema      object\n",
              "Problema            object\n",
              "Procurou_Empresa    object\n",
              "Respondida          object\n",
              "Situação            object\n",
              "dtype: object"
            ]
          },
          "metadata": {
            "tags": []
          }
        }
      ]
    },
    {
      "cell_type": "markdown",
      "metadata": {
        "id": "P4EFZIYWQe_A"
      },
      "source": [
        "Com intuito de trabalhar as variáveis de tempo `Data_Abertura`, `Data_Resposta` e `Prazo_Resposta` será necessário converter os tipos de dados `str` para `datetime` para que mais a frente, possamos trabalhar features e obter insights importantes para nossa analise. "
      ]
    },
    {
      "cell_type": "code",
      "metadata": {
        "colab": {
          "base_uri": "https://localhost:8080/",
          "height": 306
        },
        "id": "Cn28n9OxO_V-",
        "outputId": "31c5e6c6-c35c-4981-eeec-aa1102ba2d9b"
      },
      "source": [
        "#Trabalhando os tipos de variáveis \"DATA\"\r\n",
        "df.Data_Abertura = pd.to_datetime(df.Data_Abertura,format=\"%d/%m/%Y\")\r\n",
        "df.Data_Resposta = pd.to_datetime(df.Data_Resposta,format=\"%d/%m/%Y\")\r\n",
        "df.Prazo_Resposta = pd.to_datetime(df.Prazo_Resposta,format=\"%d/%m/%Y\")\r\n",
        "\r\n",
        "display(df.dtypes)"
      ],
      "execution_count": 210,
      "outputs": [
        {
          "output_type": "display_data",
          "data": {
            "text/plain": [
              "Canal_de_Origem             object\n",
              "Região                      object\n",
              "UF                          object\n",
              "Cidade                      object\n",
              "Sexo                        object\n",
              "Faixa_Etária                object\n",
              "Data_Abertura       datetime64[ns]\n",
              "Data_Resposta       datetime64[ns]\n",
              "Prazo_Resposta      datetime64[ns]\n",
              "Nome_Fantasia               object\n",
              "Área                        object\n",
              "Grupo_Problema              object\n",
              "Problema                    object\n",
              "Procurou_Empresa            object\n",
              "Respondida                  object\n",
              "Situação                    object\n",
              "dtype: object"
            ]
          },
          "metadata": {
            "tags": []
          }
        }
      ]
    },
    {
      "cell_type": "markdown",
      "metadata": {
        "id": "SA8GcGLxSdNJ"
      },
      "source": [
        "Para compreender melhor as entradas do dataset, precisamos identificar a existência de valores nulos, buscando minimizar esses gaps caso exista, pois eles podem distorcer as nossas análises por consequência de falta de informação."
      ]
    },
    {
      "cell_type": "code",
      "metadata": {
        "colab": {
          "base_uri": "https://localhost:8080/"
        },
        "id": "v8aRfkAQeL-P",
        "outputId": "ebb7ac7b-cee8-4432-cdbb-ea3fa0ac3ce6"
      },
      "source": [
        " # Em ordem decrescente as variáveis por seus valores ausentes\r\n",
        "\r\n",
        " (df.isnull().sum()/df.shape[0]*100).sort_values(ascending=False)"
      ],
      "execution_count": 211,
      "outputs": [
        {
          "output_type": "execute_result",
          "data": {
            "text/plain": [
              "Data_Resposta       9.774788\n",
              "Prazo_Resposta      0.829621\n",
              "Canal_de_Origem     0.829621\n",
              "Sexo                0.003138\n",
              "Situação            0.000000\n",
              "Respondida          0.000000\n",
              "Procurou_Empresa    0.000000\n",
              "Problema            0.000000\n",
              "Grupo_Problema      0.000000\n",
              "Área                0.000000\n",
              "Nome_Fantasia       0.000000\n",
              "Data_Abertura       0.000000\n",
              "Faixa_Etária        0.000000\n",
              "Cidade              0.000000\n",
              "UF                  0.000000\n",
              "Região              0.000000\n",
              "dtype: float64"
            ]
          },
          "metadata": {
            "tags": []
          },
          "execution_count": 211
        }
      ]
    },
    {
      "cell_type": "markdown",
      "metadata": {
        "id": "z57s2KgLUUhY"
      },
      "source": [
        "Observando o percentual de valores nulos acima, podemos concluir que existi uma concentração pequena de valores nulos em 9,8% para os campos de data de resposta. Porém trata-se de uma informação relevante, dos status das respostas que ficaram em aberto sem ter devolutiva da parte das empresas, desta forma manteremos esses valores nulos. Quanto as variáveis `Canal_de_Origem` e `Sexo` ainda que tiveram uma discreta presença de valores ausentes, iremos tratar com o método de frequência, que é muito utilizado para evitar a perda de dados."
      ]
    },
    {
      "cell_type": "code",
      "metadata": {
        "colab": {
          "base_uri": "https://localhost:8080/"
        },
        "id": "F8QwwqcMhFdv",
        "outputId": "c18cb901-a93c-40e5-cb8b-a3b1f0f98ecc"
      },
      "source": [
        "# Prenchimento e tratamento de valores ausentes com metodo de frequência\r\n",
        "print(df.Sexo.value_counts(),\"\\n\")\r\n",
        "df.Sexo.fillna(\"M\",inplace=True)\r\n",
        "\r\n",
        "print(df.Canal_de_Origem.value_counts())\r\n",
        "df.Canal_de_Origem.fillna(\"Plataforma Web\",inplace=True)"
      ],
      "execution_count": 212,
      "outputs": [
        {
          "output_type": "stream",
          "text": [
            "M    406368\n",
            "F    326138\n",
            "O       336\n",
            "Name: Sexo, dtype: int64 \n",
            "\n",
            "Plataforma Web        710038\n",
            "Plataforma Android     14099\n",
            "Plataforma IOS          2648\n",
            "Name: Canal_de_Origem, dtype: int64\n"
          ],
          "name": "stdout"
        }
      ]
    },
    {
      "cell_type": "code",
      "metadata": {
        "colab": {
          "base_uri": "https://localhost:8080/"
        },
        "id": "Zj_zYrfyhK6a",
        "outputId": "1eb9a311-3195-4d3c-cb61-231a73fd249c"
      },
      "source": [
        "# Em ordem decrescente valores ausentes após tratamento\r\n",
        "(df.isnull().sum()/df.shape[0]*100).sort_values(ascending=False)"
      ],
      "execution_count": 213,
      "outputs": [
        {
          "output_type": "execute_result",
          "data": {
            "text/plain": [
              "Data_Resposta       9.774788\n",
              "Prazo_Resposta      0.829621\n",
              "Situação            0.000000\n",
              "Respondida          0.000000\n",
              "Procurou_Empresa    0.000000\n",
              "Problema            0.000000\n",
              "Grupo_Problema      0.000000\n",
              "Área                0.000000\n",
              "Nome_Fantasia       0.000000\n",
              "Data_Abertura       0.000000\n",
              "Faixa_Etária        0.000000\n",
              "Sexo                0.000000\n",
              "Cidade              0.000000\n",
              "UF                  0.000000\n",
              "Região              0.000000\n",
              "Canal_de_Origem     0.000000\n",
              "dtype: float64"
            ]
          },
          "metadata": {
            "tags": []
          },
          "execution_count": 213
        }
      ]
    },
    {
      "cell_type": "markdown",
      "metadata": {
        "id": "qVzxJ0nuYCFD"
      },
      "source": [
        "Nesta etapa como previsto iremos montar `New_features` com as variáveis de tempo, pois como a proposta da analise é compreender a dinâmica de trativa das empresas para solucionar insatisfação do consumidor, de forma rápida e no prazo, tomaremos como indicador a seguintes equações de diferença e aderência:\r\n",
        "\r\n",
        "\r\n",
        "* *Difer* = ${\\text{(Prazo_Resposta - Data_Abertura) -}}  {\\text{ (Data_Resposta - Data_Abertura)}}$\r\n",
        "\r\n",
        "\r\n",
        " * *Aderência(%)* = $\\frac{\\text{Difer}}{\\text{Dias_prev_resposta}}$*100"
      ]
    },
    {
      "cell_type": "code",
      "metadata": {
        "id": "pgEBEz4uGy1h"
      },
      "source": [
        "#Features para acompanhamento de prazo em dias\r\n",
        "df[\"Dias_resposta\"] = df.Data_Resposta.dt.day - df.Data_Abertura.dt.day\r\n",
        "df[\"Dias_prev_resposta\"] = df.Prazo_Resposta.dt.day - df.Data_Abertura.dt.day"
      ],
      "execution_count": 214,
      "outputs": []
    },
    {
      "cell_type": "code",
      "metadata": {
        "id": "Msd9QKasbHEi"
      },
      "source": [
        "#Equações para montagem do KPI\r\n",
        "df[\"Difer\"] =  df.Dias_prev_resposta - df.Dias_resposta\r\n",
        "df[\"Aderência(%)\"] = (df.Difer/df.Dias_prev_resposta)*100\r\n",
        "df[\"Aderência(%)\"] = df['Aderência(%)'].replace(0,100)\r\n",
        "df['Aderência(%)'] = df['Aderência(%)'].apply(lambda x:100 if x > 100 else x)\r\n",
        "df['Aderência(%)'] = df['Aderência(%)'].apply(lambda x:0 if x < 0 else x)"
      ],
      "execution_count": 215,
      "outputs": []
    },
    {
      "cell_type": "markdown",
      "metadata": {
        "id": "qntmLjUtglJg"
      },
      "source": [
        "Para que possamos ter uma visão macro da distribuição desses dados, iremos plotar um histograma."
      ]
    },
    {
      "cell_type": "code",
      "metadata": {
        "colab": {
          "base_uri": "https://localhost:8080/",
          "height": 390
        },
        "id": "SSHI00H_nDKU",
        "outputId": "293d415c-bb06-487e-f8af-ee36da6a485f"
      },
      "source": [
        "#Plotando gráfico de histograma\r\n",
        "df.hist(figsize=(10,6));"
      ],
      "execution_count": 217,
      "outputs": [
        {
          "output_type": "display_data",
          "data": {
            "image/png": "[encoded data removed]",
            "text/plain": [
              "<Figure size 720x432 with 4 Axes>"
            ]
          },
          "metadata": {
            "tags": [],
            "needs_background": "light"
          }
        }
      ]
    },
    {
      "cell_type": "markdown",
      "metadata": {
        "id": "4i5ptgOuhbaA"
      },
      "source": [
        "Com uma breve análise da distribuição das variáveis que foram criadas com intuito de medir o tempo, temos uma primeira impressão de que as frequências não possuem presença de outliers. Porém validaremos, com uma investigação estatística mais a fundo antes de entrar na etapa de análise."
      ]
    },
    {
      "cell_type": "markdown",
      "metadata": {
        "id": "txe8XLLK4Iki"
      },
      "source": [
        "##A investigação estatistica será dividida em duas etapas\r\n",
        "* **_*Primeira etapa*_** -> Visão geral estatistica através da função `describe` para as variáveis que fazem parte do KPI.\r\n",
        "\r\n",
        "* **_*Segunda  etapa*_** -> Gráfico de `boxplot`para as variáveis que seja necessário visiualizar os intervalos de outliers."
      ]
    },
    {
      "cell_type": "code",
      "metadata": {
        "colab": {
          "base_uri": "https://localhost:8080/",
          "height": 297
        },
        "id": "OS6ggAR9nboF",
        "outputId": "1b4e5620-b3cf-4d3f-f423-1dc5cfd71938"
      },
      "source": [
        "#Primeira etapa\r\n",
        "df.describe()"
      ],
      "execution_count": 218,
      "outputs": [
        {
          "output_type": "execute_result",
          "data": {
            "text/html": [
              "<div>\n",
              "<style scoped>\n",
              "    .dataframe tbody tr th:only-of-type {\n",
              "        vertical-align: middle;\n",
              "    }\n",
              "\n",
              "    .dataframe tbody tr th {\n",
              "        vertical-align: top;\n",
              "    }\n",
              "\n",
              "    .dataframe thead th {\n",
              "        text-align: right;\n",
              "    }\n",
              "</style>\n",
              "<table border=\"1\" class=\"dataframe\">\n",
              "  <thead>\n",
              "    <tr style=\"text-align: right;\">\n",
              "      <th></th>\n",
              "      <th>Dias_resposta</th>\n",
              "      <th>Dias_prev_resposta</th>\n",
              "      <th>Difer</th>\n",
              "      <th>Aderência(%)</th>\n",
              "    </tr>\n",
              "  </thead>\n",
              "  <tbody>\n",
              "    <tr>\n",
              "      <th>count</th>\n",
              "      <td>661229.000000</td>\n",
              "      <td>726785.000000</td>\n",
              "      <td>661229.000000</td>\n",
              "      <td>661119.000000</td>\n",
              "    </tr>\n",
              "    <tr>\n",
              "      <th>mean</th>\n",
              "      <td>0.401821</td>\n",
              "      <td>0.065318</td>\n",
              "      <td>-0.323963</td>\n",
              "      <td>57.669291</td>\n",
              "    </tr>\n",
              "    <tr>\n",
              "      <th>std</th>\n",
              "      <td>12.420155</td>\n",
              "      <td>15.009613</td>\n",
              "      <td>12.097162</td>\n",
              "      <td>41.003706</td>\n",
              "    </tr>\n",
              "    <tr>\n",
              "      <th>min</th>\n",
              "      <td>-30.000000</td>\n",
              "      <td>-30.000000</td>\n",
              "      <td>-30.000000</td>\n",
              "      <td>0.000000</td>\n",
              "    </tr>\n",
              "    <tr>\n",
              "      <th>25%</th>\n",
              "      <td>-9.000000</td>\n",
              "      <td>-16.000000</td>\n",
              "      <td>0.000000</td>\n",
              "      <td>13.333333</td>\n",
              "    </tr>\n",
              "    <tr>\n",
              "      <th>50%</th>\n",
              "      <td>4.000000</td>\n",
              "      <td>-1.000000</td>\n",
              "      <td>3.000000</td>\n",
              "      <td>66.666667</td>\n",
              "    </tr>\n",
              "    <tr>\n",
              "      <th>75%</th>\n",
              "      <td>9.000000</td>\n",
              "      <td>15.000000</td>\n",
              "      <td>8.000000</td>\n",
              "      <td>100.000000</td>\n",
              "    </tr>\n",
              "    <tr>\n",
              "      <th>max</th>\n",
              "      <td>30.000000</td>\n",
              "      <td>30.000000</td>\n",
              "      <td>30.000000</td>\n",
              "      <td>100.000000</td>\n",
              "    </tr>\n",
              "  </tbody>\n",
              "</table>\n",
              "</div>"
            ],
            "text/plain": [
              "       Dias_resposta  Dias_prev_resposta          Difer   Aderência(%)\n",
              "count  661229.000000       726785.000000  661229.000000  661119.000000\n",
              "mean        0.401821            0.065318      -0.323963      57.669291\n",
              "std        12.420155           15.009613      12.097162      41.003706\n",
              "min       -30.000000          -30.000000     -30.000000       0.000000\n",
              "25%        -9.000000          -16.000000       0.000000      13.333333\n",
              "50%         4.000000           -1.000000       3.000000      66.666667\n",
              "75%         9.000000           15.000000       8.000000     100.000000\n",
              "max        30.000000           30.000000      30.000000     100.000000"
            ]
          },
          "metadata": {
            "tags": []
          },
          "execution_count": 218
        }
      ]
    },
    {
      "cell_type": "markdown",
      "metadata": {
        "id": "Moscf2MR6OC0"
      },
      "source": [
        "O resumo estatístico acima, nos permite validar alguns pontos para cada variável:\r\n",
        "\r\n",
        "*  Para os `Dias_resposta` temos uma maior concentração de **75%** dos dados, a média de respostas em **9 dias** comparando a média dos `Dias_prev_resposta` que tem maior concentração de distribuição de dados para **15 dias**. Podemos dizer que a maior parte das repostas, tendem a serem atendidas dentro do prazo estipulado, com **6 dias de antecedêndia do prazo** que foi passado para o consumidor.\r\n",
        "\r\n",
        "*  Agora olhando para a `Dif` que é a diferença de dias entre o prazo estimado pela empresa, com a resposta em efetivo, temos pontos de atenção para **possibilidade de atraso na resposta em 30 dias**, ou uma supresa na devolutiva com antecedência de resposta em **30 dias para longo prazo**.\r\n",
        "\r\n",
        "*  Para o nosso KPI de `Aderência(%)` podemos ver que com **75%** das respostas com a performance em **100%** podemos considerar que boa parte dos prazos tendem a ser respondidos dentro do prazo com antecedência ao prazo estimado."
      ]
    },
    {
      "cell_type": "code",
      "metadata": {
        "colab": {
          "base_uri": "https://localhost:8080/",
          "height": 319
        },
        "id": "L9pEJLVSdOHp",
        "outputId": "36af4c57-583b-496a-8200-ee65b3e77844"
      },
      "source": [
        "#Segunda etapa\r\n",
        "df.plot(kind='box', vert= False)\r\n",
        "plt.show()"
      ],
      "execution_count": 219,
      "outputs": [
        {
          "output_type": "stream",
          "text": [
            "/usr/local/lib/python3.6/dist-packages/numpy/core/_asarray.py:83: VisibleDeprecationWarning: Creating an ndarray from ragged nested sequences (which is a list-or-tuple of lists-or-tuples-or ndarrays with different lengths or shapes) is deprecated. If you meant to do this, you must specify 'dtype=object' when creating the ndarray\n",
            "  return array(a, dtype, copy=False, order=order)\n"
          ],
          "name": "stderr"
        },
        {
          "output_type": "display_data",
          "data": {
            "image/png": "[encoded data removed]",
            "text/plain": [
              "<Figure size 432x288 with 1 Axes>"
            ]
          },
          "metadata": {
            "tags": [],
            "needs_background": "light"
          }
        }
      ]
    },
    {
      "cell_type": "markdown",
      "metadata": {
        "id": "D6Z2_VoHdkWv"
      },
      "source": [
        "Como podemos observar, a maior variação de distribuição em outliers está centralizado em `Dif` para trabalharmos, essa distribuição iremos plotar novo `boxplot` para vizualizar a proporção desses valores fora de serie."
      ]
    },
    {
      "cell_type": "code",
      "metadata": {
        "colab": {
          "base_uri": "https://localhost:8080/",
          "height": 316
        },
        "id": "XxoddIVafxFw",
        "outputId": "41f878c7-2b23-419d-f7a6-c48e6591cadc"
      },
      "source": [
        "#Segunda etapa\r\n",
        "df.Difer.plot(kind= 'box', vert= False)\r\n",
        "plt.show()\r\n",
        "\r\n",
        "print(\"\\n{} entradas inferior 25 dias\".format(len(df.loc[df.Difer<-25])))\r\n",
        "print(\"representando {:.4f}% dos dados\".format(len(df.loc[df.Difer<-25])/df.shape[0]*100))\r\n"
      ],
      "execution_count": 220,
      "outputs": [
        {
          "output_type": "display_data",
          "data": {
            "image/png": "[encoded data removed]",
            "text/plain": [
              "<Figure size 432x288 with 1 Axes>"
            ]
          },
          "metadata": {
            "tags": [],
            "needs_background": "light"
          }
        },
        {
          "output_type": "stream",
          "text": [
            "\n",
            "18470 entradas inferior 25 dias\n",
            "representando 2.5202% dos dados\n"
          ],
          "name": "stdout"
        }
      ]
    },
    {
      "cell_type": "markdown",
      "metadata": {
        "id": "5cZKW5iKf4Up"
      },
      "source": [
        "Considerando que dentro de cada mês temos 4 domingos, que normalmente não são dias trabalhados e acabam distorcendo o período de resposta, e consequentemente a diferença entre o prazo preestabelecido para a devolutiva da empresa. Iremos desconsiderar esses pontos acima de 25 dias, que conforme a análise estatística se enquadram como valores fora de série tanto para o limite superior, como o inferior."
      ]
    },
    {
      "cell_type": "markdown",
      "metadata": {
        "id": "jBNRxvH1ki50"
      },
      "source": [
        "**Histogramas sem outliers**\r\n",
        "\r\n"
      ]
    },
    {
      "cell_type": "code",
      "metadata": {
        "colab": {
          "base_uri": "https://localhost:8080/",
          "height": 390
        },
        "id": "KXrlYrrXiDXq",
        "outputId": "10189f55-c267-421c-a77f-d0740ee03ccb"
      },
      "source": [
        "# remover os *outliers* em um novo DataFrame\r\n",
        "\r\n",
        "df_clean = df.copy()\r\n",
        "df_clean.drop(df_clean[df_clean.Difer<-25].index,axis= 0, inplace=True)\r\n",
        "df_clean.drop(df_clean[df_clean.Difer>25].index,axis= 0, inplace=True)\r\n",
        "\r\n",
        "\r\n",
        "# plotando histograma para as variáveis após limpeza dos outliers\r\n",
        "df_clean.hist(figsize=(10,6));"
      ],
      "execution_count": 221,
      "outputs": [
        {
          "output_type": "display_data",
          "data": {
            "image/png": "[encoded data removed]",
            "text/plain": [
              "<Figure size 720x432 with 4 Axes>"
            ]
          },
          "metadata": {
            "tags": [],
            "needs_background": "light"
          }
        }
      ]
    },
    {
      "cell_type": "markdown",
      "metadata": {
        "id": "PK9Hnu5_kJS3"
      },
      "source": [
        "##Correlacionando as váriaveis \r\n",
        "Para identificar a interpretação do nosso KPI `Aderência (%)` iremos plotar uma matriz de correlação, buscando o racional correto de utilização para que possamos replicar a régua em nossas análises."
      ]
    },
    {
      "cell_type": "code",
      "metadata": {
        "colab": {
          "base_uri": "https://localhost:8080/",
          "height": 356
        },
        "id": "bYZ-83pfsalO",
        "outputId": "02d90762-0593-440c-f912-07a2e9c35fa8"
      },
      "source": [
        "corr = df_clean.corr()\r\n",
        "\r\n",
        "sns.heatmap(corr, cmap='RdBu', fmt='.2f', square=True, linecolor='White',annot=True);"
      ],
      "execution_count": 222,
      "outputs": [
        {
          "output_type": "display_data",
          "data": {
            "image/png": "[encoded data removed]",
            "text/plain": [
              "<Figure size 432x288 with 2 Axes>"
            ]
          },
          "metadata": {
            "tags": [],
            "needs_background": "light"
          }
        }
      ]
    },
    {
      "cell_type": "markdown",
      "metadata": {
        "id": "lhQeOTVRucNn"
      },
      "source": [
        "Quando analisamos os fatores de correlação conforme a matriz acima, podemos ver que os `Dias_resposta` é inversamente prporcional ao `Difer` concluindo que, todas as vezes que o tempo de resposta se prolonga, temos uma redução na diferença de dias restantes para o prazo previsto. Mostrando no meio do termometro `Aderência (%)` que por sua vez tende ilustrar que quanto mais rapido a resposta, maior é a intensidade do meu valor de aderência. "
      ]
    },
    {
      "cell_type": "markdown",
      "metadata": {
        "id": "eCKAXO5UmXJ1"
      },
      "source": [
        "# Medindo a média de aderência (%) de respostas das empresas em função do tempo\r\n",
        "Vamos dedicar essa seção do projeto para iniciar a analise dos dados. Para a interpretação desse indicador temos como orientação conforme validado anteriormente, que **quanto maior o percentual melhor**, pois sabemos que a medida que a devolutiva da **resposta ao consumidor é rápida**, maior é a proporção com o tempo de dias que estava previsto. E o oposto para o **percentual menor**, pois significa que o **intervalo de resposta demorou mais**, e entre os dias restantes com o tempo de dias que estava previsto diminuindo, menor sera a proporção de aderência ao prazo preestabelecido."
      ]
    },
    {
      "cell_type": "code",
      "metadata": {
        "id": "TrPJKvcumajd",
        "colab": {
          "base_uri": "https://localhost:8080/",
          "height": 645
        },
        "outputId": "7479cf98-f193-454d-fa43-4e739e0cff62"
      },
      "source": [
        "Mês = pd.to_datetime(df_clean.Data_Abertura).dt.strftime('%b-%y')\r\n",
        "Media = df_clean['Aderência(%)']\r\n",
        "\r\n",
        "fig, ax= plt.subplots(figsize=(8,6))\r\n",
        "sns.barplot(x= Mês, y= Media, ax=ax)\r\n",
        "\r\n",
        "ax.spines['right'].set_visible(False)\r\n",
        "ax.spines['left'].set_visible(False)\r\n",
        "ax.spines['top'].set_visible(False)\r\n",
        "ax.spines['bottom'].set_visible(False)\r\n",
        "plt.xlabel(\"\")\r\n",
        "\r\n",
        "plt.title(\"Média de Aderência (%) decorrer dos meses\", fontsize=15)\r\n",
        "plt.xticks(rotation=70)\r\n",
        "plt.tight_layout()\r\n",
        "plt.show()\r\n",
        "\r\n",
        "print(\"\\n\")\r\n",
        "print(df_clean.groupby(Mês,sort=False)['Aderência(%)'].mean())\r\n"
      ],
      "execution_count": 223,
      "outputs": [
        {
          "output_type": "display_data",
          "data": {
            "image/png": "[encoded data removed]",
            "text/plain": [
              "<Figure size 576x432 with 1 Axes>"
            ]
          },
          "metadata": {
            "tags": [],
            "needs_background": "light"
          }
        },
        {
          "output_type": "stream",
          "text": [
            "\n",
            "\n",
            "Data_Abertura\n",
            "Jun-20    53.635709\n",
            "Jul-20    48.905736\n",
            "Aug-20    55.347648\n",
            "Sep-20    57.351897\n",
            "Oct-20    56.050773\n",
            "Nov-20    57.030977\n",
            "Dec-20    56.427908\n",
            "Jan-21    72.804661\n",
            "Name: Aderência(%), dtype: float64\n"
          ],
          "name": "stdout"
        }
      ]
    },
    {
      "cell_type": "markdown",
      "metadata": {
        "id": "VwWWUclDrxdl"
      },
      "source": [
        "###Identificando a linha média de criticidade para aderência\r\n",
        "Vamos encontrar o valor médio para aderência, para que possamos utilizar como ponto de corte quem está abaixo da média."
      ]
    },
    {
      "cell_type": "code",
      "metadata": {
        "id": "UyfrEvLBifBJ"
      },
      "source": [
        "#Média de aderência de respostas das empresas\r\n",
        "PER = df_clean['Aderência(%)'].mean()//1"
      ],
      "execution_count": 328,
      "outputs": []
    },
    {
      "cell_type": "code",
      "metadata": {
        "colab": {
          "base_uri": "https://localhost:8080/",
          "height": 264
        },
        "id": "3LxC3U5Dt1XL",
        "outputId": "22b8d34d-7a43-4c95-eb5f-82e03697320c"
      },
      "source": [
        "BLUE2, BLUE1, BLUE3 = '#4A81BF','#000080','#4F4F4F'\r\n",
        "\r\n",
        "#Texto 1 central\r\n",
        "plt.text(-0.15, 0.41,\r\n",
        "         '$\\\\bf{\\}$'+str(PER)+\"%\", # use mathtext \\\\bf for bold text\r\n",
        "         fontsize=122,\r\n",
        "         color=BLUE1)\r\n",
        "\r\n",
        "#Sub-texto 1\r\n",
        "plt.text(-0.14, 0.89,\r\n",
        "         '$\\\\bf{Conforme\\ racional}$: Sabemos que quanto maior, o percentual\\n'\r\n",
        "         'melhor a aderência e mais rápido a resposta.',\r\n",
        "         fontsize=18,\r\n",
        "         color=BLUE3)\r\n",
        "\r\n",
        "#Sub-texto 2\r\n",
        "plt.text(-0.15, 0.25,\r\n",
        "         # use mathtext \\\\bf for bold text\r\n",
        "         '$\\\\bf{Média\\ para\\ o\\ limite\\ de\\ corte\\ de\\ aderência.}$',\r\n",
        "         fontsize=19,\r\n",
        "         color=BLUE2)\r\n",
        "\r\n",
        "#  remover eixo y\r\n",
        "plt.gca().axes.get_yaxis().set_visible(False)\r\n",
        "plt.gca().axes.get_xaxis().set_visible(False)\r\n",
        "\r\n",
        "# remover bordas\r\n",
        "for spine in plt.gca().spines.values():\r\n",
        "    spine.set_visible(False)\r\n"
      ],
      "execution_count": 340,
      "outputs": [
        {
          "output_type": "display_data",
          "data": {
            "image/png": "[encoded data removed]",
            "text/plain": [
              "<Figure size 432x288 with 1 Axes>"
            ]
          },
          "metadata": {
            "tags": [],
            "needs_background": "light"
          }
        }
      ]
    },
    {
      "cell_type": "markdown",
      "metadata": {
        "id": "GXFA8u8th4Fm"
      },
      "source": [
        "### Compreendendo o cenário regional quanto aos menores valores médios de aderência (%) de respostas das empresas\r\n",
        "Para avaliar as variações de atendimento ao consumidor em nível regional, utilizamos a nossa régua de aderência para compreender quais as regiões possuem maior fragilidade quanto a suporte para insatisfação do consumidor.\r\n",
        "\r\n"
      ]
    },
    {
      "cell_type": "code",
      "metadata": {
        "colab": {
          "base_uri": "https://localhost:8080/",
          "height": 607
        },
        "id": "EQVsSxprw75o",
        "outputId": "7e9c4fbc-9220-442d-a0a3-234e15012449"
      },
      "source": [
        "#Plotando os graficos de rosca com matplot\r\n",
        "\r\n",
        "fig, (ax1, ax2)= plt.subplots(1,2,figsize=(10,5))\r\n",
        "\r\n",
        "colors = ['#FF0000', '#FFFF00', '#99ff99', '#66b3ff','#7B68EE']\r\n",
        "colors2 = ['#FF0000', '#FF0000', '#FF0000', '#FF0000','#FFFF00','#FFFF00','#FFFF00']\r\n",
        "\r\n",
        "explode = (0.1,0.2,0,0, 0)\r\n",
        "explode2 = (0,0,0,0, 0,0,0)\r\n",
        "\r\n",
        "a = df_clean.groupby('Região')['Aderência(%)'].mean().sort_values(ascending=\r\n",
        "True)\r\n",
        "b = df_clean[(df_clean['Região']==\"S \") | (df_clean['Região']==\"CO\") ]\r\n",
        "b= b.groupby(['UF','Região'][0])['Aderência(%)'].mean().sort_values(ascending=\r\n",
        "True)[0:7]\r\n",
        "b.sort_index(level='Região',inplace=True)\r\n",
        "\r\n",
        "\r\n",
        "ax1.pie(a,labels=dict(a).keys(),explode=explode,autopct='%1.1f%%',colors=colors,startangle=25)\r\n",
        "ax2.pie(b,labels=dict(b).keys(),explode=explode2,autopct='%1.1f%%',colors=colors2,startangle=25)\r\n",
        "\r\n",
        "\r\n",
        "ax1.set_title(\"Divisão regional proporção da aderência\")\r\n",
        "ax2.set_title(\"Divisão estadual aderência abaixo da média\")\r\n",
        "\r\n",
        "\r\n",
        "centre_circle = plt.Circle((0,0),0.4,color='black', fc='white',linewidth=0)\r\n",
        "fig = plt.gcf()\r\n",
        "fig.gca().add_artist(centre_circle)\r\n",
        "\r\n",
        "centre_circle = plt.Circle((1,5),0.4,color='black', fc='white',linewidth=0)\r\n",
        "fig = plt.gcf()\r\n",
        "fig.gca().add_artist(centre_circle)\r\n",
        "\r\n",
        "plt.show()\r\n",
        "\r\n",
        "print(df_clean.groupby('Região')['Aderência(%)'].mean().sort_values(ascending=True),\"\\n\\n\")\r\n",
        "\r\n",
        "\r\n",
        "c = df_clean[(df_clean['Região']==\"S \") | (df_clean['Região']==\"CO\") ]\r\n",
        "c= c.groupby(['Região','UF'])['Aderência(%)'].mean().sort_values(ascending=\r\n",
        "True)[0:7]\r\n",
        "c.sort_index(level='Região',inplace=True)\r\n",
        "print(c)\r\n",
        "\r\n"
      ],
      "execution_count": 266,
      "outputs": [
        {
          "output_type": "display_data",
          "data": {
            "image/png": "[encoded data removed]",
            "text/plain": [
              "<Figure size 720x360 with 2 Axes>"
            ]
          },
          "metadata": {
            "tags": []
          }
        },
        {
          "output_type": "stream",
          "text": [
            "Região\n",
            "CO    55.259939\n",
            "S     55.907089\n",
            "SE    56.601418\n",
            "NE    56.980940\n",
            "N     58.219464\n",
            "Name: Aderência(%), dtype: float64 \n",
            "\n",
            "\n",
            "Região  UF\n",
            "CO      DF    55.900375\n",
            "        GO    57.577342\n",
            "        MS    47.131615\n",
            "        MT    57.282062\n",
            "S       PR    56.090250\n",
            "        RS    55.333703\n",
            "        SC    56.460339\n",
            "Name: Aderência(%), dtype: float64\n"
          ],
          "name": "stdout"
        }
      ]
    },
    {
      "cell_type": "markdown",
      "metadata": {
        "id": "r5jJ6s6VofRm"
      },
      "source": [
        "###Conclusões de distribuição regional:\r\n",
        "\r\n",
        "* Na analise do gráfico acima, podemos ver que a concentração regional possui duas areas com média de aderência(%) abaixo da média de 56% são as regiões `Centro-Oeste (CO)` e `Sul (S)` com representatividade de 39,3% para valores fora da média.\r\n",
        "\r\n",
        "* E quando estratificamos essas duas regiões em nivel estadual, temos a média mais baixa no centro oeste para `Mato Grosso do Sul (MS)` com 47% de aderência nas tratativas de problemas de seus consumidores, puxando a média para baixo junto com `Distrito Federal (DF)`. E olhando para o sul temos o estado de `Rio Grande do Sul (RS)` puxando a média para baixo com 55% de aderência."
      ]
    },
    {
      "cell_type": "markdown",
      "metadata": {
        "id": "Ims6zvcArU8I"
      },
      "source": [
        "### Contagem de notificações em faixa etária para regiões abaixo da média de aderência(%)\r\n",
        "\r\n",
        "Nessa etapa será contabilizado, a divisão por faixa etária para as regiões que apresentam valores de média de aderência(%) abaixo do ponto de corte."
      ]
    },
    {
      "cell_type": "code",
      "metadata": {
        "colab": {
          "base_uri": "https://localhost:8080/",
          "height": 595
        },
        "id": "uYIT1DSkk132",
        "outputId": "071e721a-5114-46e7-bd83-4ca29b708764"
      },
      "source": [
        "#Registros de notificações por faixa etária\r\n",
        "\r\n",
        "age = df_clean[(df_clean['Região']==\"S \") | (df_clean['Região']==\"CO\") ]\r\n",
        "(age.Faixa_Etária.value_counts(ascending=True)/age.shape[0]*100).plot.barh(figsize=(8,6))\r\n",
        "\r\n",
        "\r\n",
        "print(\"\\n Proporção de notificações por faixa etária (Regiões CO e S):\\n\")\r\n",
        "print(age.Faixa_Etária.value_counts()/age.shape[0]*100,\"\\n\\n\")\r\n"
      ],
      "execution_count": 345,
      "outputs": [
        {
          "output_type": "stream",
          "text": [
            "\n",
            " Proporção de notificações por faixa etária (Regiões CO e S):\n",
            "\n",
            "entre 31 a 40 anos    29.675060\n",
            "entre 21 a 30 anos    23.563529\n",
            "entre 41 a 50 anos    16.744119\n",
            "entre 51 a 60 anos    12.247830\n",
            "entre 61 a 70 anos    10.815862\n",
            "mais de 70 anos        5.315844\n",
            "até 20 anos            1.637757\n",
            "Name: Faixa_Etária, dtype: float64 \n",
            "\n",
            "\n"
          ],
          "name": "stdout"
        },
        {
          "output_type": "display_data",
          "data": {
            "image/png": "[encoded data removed]",
            "text/plain": [
              "<Figure size 576x432 with 1 Axes>"
            ]
          },
          "metadata": {
            "tags": [],
            "needs_background": "light"
          }
        }
      ]
    },
    {
      "cell_type": "markdown",
      "metadata": {
        "id": "AqaNaADz0Ucf"
      },
      "source": [
        "### Etapa de estratificação dos problemas notificados (Quantidade e representatividade percentual)\r\n",
        "\r\n",
        "Iremos estratificar os problemas, quantificando a recorrência de registro aberto pelos consumidores da regiões `Centro-Oeste (CO)` e `Sul (S)` para dar mais profundidade, nos tipos de ocorrências que impactam a média de aderência da região."
      ]
    },
    {
      "cell_type": "code",
      "metadata": {
        "colab": {
          "base_uri": "https://localhost:8080/"
        },
        "id": "4DK0c1NoaNWt",
        "outputId": "1138eaa7-a8d8-4c10-e007-2c87a4dc5a5e"
      },
      "source": [
        "# Estratificação em grupo por quantidade, referenciando o percentual de representatividade por ocorrências\r\n",
        "ramo = df_clean[(df_clean['Região']==\"S \") | (df_clean['Região']==\"CO\") ]\r\n",
        "\r\n",
        "print(\"\\n Estratificando notificações por categoria de problema (Representatividade %):\\n\")\r\n",
        "print(ramo.Área.value_counts()/ramo.shape[0]*100,\"\\n\\n\")"
      ],
      "execution_count": 402,
      "outputs": [
        {
          "output_type": "stream",
          "text": [
            "\n",
            " Estratificando notificações por categoria de problema (Representatividade %):\n",
            "\n",
            "Serviços Financeiros                       41.087125\n",
            "Telecomunicações                           23.929626\n",
            "Produtos de Telefonia e Informática         6.924331\n",
            "Demais Produtos                             6.711787\n",
            "Transportes                                 5.154184\n",
            "Demais Serviços                             5.115908\n",
            "Produtos Eletrodomésticos e Eletrônicos     4.122987\n",
            "Turismo/Viagens                             2.664001\n",
            "Água, Energia, Gás                          2.529810\n",
            "Saúde                                       0.774073\n",
            "Educação                                    0.598455\n",
            "Alimentos                                   0.313412\n",
            "Habitação                                   0.074300\n",
            "Name: Área, dtype: float64 \n",
            "\n",
            "\n"
          ],
          "name": "stdout"
        }
      ]
    },
    {
      "cell_type": "markdown",
      "metadata": {
        "id": "ZpL3-r7Y-E2z"
      },
      "source": [
        "Nessa breve analise, o problema está centralizado entre os 80% nas categorias `Serviços Financeiros`e `Telecomunicações` com o maior volume de ocorrências. Iremos descer a segunda camada para visualizar os grupos de problema."
      ]
    },
    {
      "cell_type": "code",
      "metadata": {
        "colab": {
          "base_uri": "https://localhost:8080/"
        },
        "id": "3s3KyNdaacuk",
        "outputId": "b47b5828-dbf9-4715-9e8e-eb1ffb1d6dae"
      },
      "source": [
        "# Estratificação em grupo por quantidade, referenciando o percentual de representatividade por ocorrências\r\n",
        "\r\n",
        "grupo_p = df_clean[(df_clean['Região']==\"S \") | (df_clean['Região']==\"CO\")]\r\n",
        "grupo_pr = grupo_p[(grupo_p['Área']==\"Serviços Financeiros\") | (grupo_p['Área']==\"Telecomunicações\")]\r\n",
        "\r\n",
        "print(\"\\n Estratificando notificações por sub-grupo de problema (Representatividade %):\\n\")\r\n",
        "print(grupo_pr.Grupo_Problema.value_counts()/grupo_pr.shape[0]*100,\"\\n\\n\")"
      ],
      "execution_count": 425,
      "outputs": [
        {
          "output_type": "stream",
          "text": [
            "\n",
            " Estratificando notificações por sub-grupo de problema (Representatividade %):\n",
            "\n",
            "Cobrança / Contestação    43.307430\n",
            "Contrato / Oferta         23.654283\n",
            "Atendimento / SAC         13.045074\n",
            "Vício de Qualidade        11.799091\n",
            "Informação                 7.688525\n",
            "Entrega do Produto         0.458500\n",
            "Saúde e Segurança          0.047097\n",
            "Name: Grupo_Problema, dtype: float64 \n",
            "\n",
            "\n"
          ],
          "name": "stdout"
        }
      ]
    },
    {
      "cell_type": "markdown",
      "metadata": {
        "id": "eg3rZic0C7Cn"
      },
      "source": [
        "Na segunda camada com o maior peso carregando 40% do grupo de problemas, temos `Cobrança / Contestação` e fechando os 80% em seguida fica `Contrato / Oferta` ,  `Contrato / Oferta` e `Vício de Qualidade`. Se observarmos bem trata-se de um conjunto de atividades de rotina de sistema de telefonia e rede bancaria com serviços de credito. Para validar a hipotese, iremos descer a terceira camada procurando as top 10 empresas com mais notificações."
      ]
    },
    {
      "cell_type": "code",
      "metadata": {
        "id": "1649lpBldKyC",
        "colab": {
          "base_uri": "https://localhost:8080/"
        },
        "outputId": "ce8a67b0-cfbb-48a4-ec0c-15b0309b3246"
      },
      "source": [
        "# Estratificação em grupo por quantidade, referenciando o percentual de representatividade por ocorrências\r\n",
        "empresa = grupo_pr[(grupo_pr['Grupo_Problema']==\"Cobrança / Contestação\") | (grupo_pr['Grupo_Problema']==\"Contrato / Oferta\") | (grupo_pr['Grupo_Problema']==\"Atendimento / SAC\")| (grupo_pr['Grupo_Problema']==\"Vício de Qualidade\") ]\r\n",
        "\r\n",
        "print(\"\\n Estratificando notificações por empresa (Representatividade %):\\n\")\r\n",
        "print((empresa.Nome_Fantasia.value_counts()/empresa.shape[0]*100).sort_values(ascending=False)[:10],\"\\n\\n\")\r\n"
      ],
      "execution_count": 426,
      "outputs": [
        {
          "output_type": "stream",
          "text": [
            "\n",
            " Estratificando notificações por empresa (Representatividade %):\n",
            "\n",
            "Vivo - Telefônica          10.921669\n",
            "Tim                         5.799944\n",
            "Caixa Econômica Federal     5.453668\n",
            "Claro Celular               4.927086\n",
            "Oi Fixo                     4.894646\n",
            "Banco BMG                   3.756988\n",
            "Banco Pan                   3.606105\n",
            "NET                         3.348849\n",
            "Mercado Pago                2.525028\n",
            "Oi Celular                  2.448832\n",
            "Name: Nome_Fantasia, dtype: float64 \n",
            "\n",
            "\n"
          ],
          "name": "stdout"
        }
      ]
    },
    {
      "cell_type": "markdown",
      "metadata": {
        "id": "xMALzESME5Hg"
      },
      "source": [
        "Confirmando a hipotese, temos uma grande concentração de notificações para empresas de telefonia e serviços de credito bancario."
      ]
    },
    {
      "cell_type": "markdown",
      "metadata": {
        "id": "t0ujd7oLFdeO"
      },
      "source": [
        "##Conclusão\r\n",
        "\r\n",
        "Esse projeto de análise de dados para resposta ao consumidor e-commerce, nos mostra que existe uma gestão para insatisfação do consumidor que realizou a aquisição de algum serviço ou produto. E que entre regiões possuímos, diferentes níveis de serviço, podendo ser melhor ou pior no que tange a atenção e preocupação com o cliente. Pois no estudo podemos observar, maior engajamento nas regiões Norte, Nordeste e Sudeste para garantir que os problemas do consumidor sejam resolvidos o quanto antes. Diferente de regiões que possuem boa infraestrutura, e alta movimentação econômica, como o caso da região Sul e Centro Oeste que estatisticamente, mostrou fragilidades quanto aos canais de atendimento ao consumidor com aderência média para devolutiva de soluções inferior a 56% com concentração entre as áreas de telefonia, e rede bancária com serviços de crédito.\r\n",
        "O intuito desse projeto, foi realizar uma análise exploratória de dados com conceitos fundamentados em ciência de dados. Pois conhecer os dados, e manipulá-los para obter insights como alguns que extraímos nas análises acima, entendendo o verdadeiro ponto onde devemos atuar, pode mudar a perspectiva do negócio e alavancar resultados para aumentar a receita e alcançar resultados.\r\n",
        "\r\n"
      ]
    },
    {
      "cell_type": "code",
      "metadata": {
        "id": "6JXE-2XQinXh"
      },
      "source": [
        ""
      ],
      "execution_count": null,
      "outputs": []
    }
  ]
}
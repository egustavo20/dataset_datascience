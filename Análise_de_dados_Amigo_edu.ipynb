{
  "nbformat": 4,
  "nbformat_minor": 0,
  "metadata": {
    "colab": {
      "name": "Amigo_edu.ipynb",
      "provenance": [],
      "collapsed_sections": [],
      "authorship_tag": "ABX9TyO5jhmZ6uaY7MX5F+dq0W7q",
      "include_colab_link": true
    },
    "kernelspec": {
      "name": "python3",
      "display_name": "Python 3"
    }
  },
  "cells": [
    {
      "cell_type": "markdown",
      "metadata": {
        "id": "view-in-github",
        "colab_type": "text"
      },
      "source": [
        "<a href=\"https://colab.research.google.com/github/egustavo20/dataset_datascience/blob/master/An%C3%A1lise_de_dados_Amigo_edu.ipynb\" target=\"_parent\"><img src=\"https://colab.research.google.com/assets/colab-badge.svg\" alt=\"Open In Colab\"/></a>"
      ]
    },
    {
      "cell_type": "markdown",
      "metadata": {
        "id": "iXpFP4UpFxff"
      },
      "source": [
        "# Amigo Edu - BI Challenge\r\n",
        "\r\n",
        "<center><img alt=\"Analisando Airbnb\" width=\"39%\" src=\"https://amigoedu.com.br/cafa741738ba8e40e117962851183a99.png\"></center>\r\n",
        "\r\n",
        "\r\n",
        "No contexto de vendas e marketing online, muitas vezes os usuários são direcionados ao site por diferentes canais (ads em redes sociais, email marketing, Google, etc). Também é comum que os usuários visitem diversas vezes o site antes de realizar uma compra. Nesse desafio você deve analisar os registros de conversões (vendas) de um e-commerce hipotético.\r\n"
      ]
    },
    {
      "cell_type": "markdown",
      "metadata": {
        "id": "Doj2-tWMLMAM"
      },
      "source": [
        "## Importando dados"
      ]
    },
    {
      "cell_type": "code",
      "metadata": {
        "id": "i8h-xx456IfC"
      },
      "source": [
        "#importando bibliotecas\r\n",
        "import pandas as pd\r\n",
        "import sqlite3\r\n",
        "import matplotlib.pyplot as plt\r\n",
        "import seaborn as sns\r\n",
        "%matplotlib inline"
      ],
      "execution_count": null,
      "outputs": []
    },
    {
      "cell_type": "code",
      "metadata": {
        "id": "lV40mXSC0_rP"
      },
      "source": [
        "#Importando arquivo SQL\r\n",
        "con = sqlite3.connect('/content/amigoedu_bi_challenge.db')\r\n",
        "cursor = con.cursor()"
      ],
      "execution_count": null,
      "outputs": []
    },
    {
      "cell_type": "code",
      "metadata": {
        "colab": {
          "base_uri": "https://localhost:8080/"
        },
        "id": "v0VWwJWRG02_",
        "outputId": "b8165eb5-d016-4d92-f6af-947b8658bd16"
      },
      "source": [
        "#Identificando tabelas\r\n",
        "cursor.execute(\"SELECT name FROM sqlite_master WHERE type='table';\")\r\n",
        "print(cursor.fetchall())"
      ],
      "execution_count": null,
      "outputs": [
        {
          "output_type": "stream",
          "text": [
            "[('table_A',), ('table_B',)]\n"
          ],
          "name": "stdout"
        }
      ]
    },
    {
      "cell_type": "markdown",
      "metadata": {
        "id": "9HJLet10gjgp"
      },
      "source": [
        "## Dicionário das variáveis\r\n",
        "\r\n",
        "* `convId` - ID da transação\r\n",
        "* `userId` - ID do cliente\r\n",
        "* `revenue` - Valor da transação\r\n",
        "* `createdAt` - Data da trasação\r\n",
        "* `channel` - canal de marketing\r\n",
        "* `ihcFrac` - contribuição do canal para a conversão\r\n",
        "\r\n"
      ]
    },
    {
      "cell_type": "markdown",
      "metadata": {
        "id": "Y-wNgL2EGQx7"
      },
      "source": [
        "## Tratamento dos dados"
      ]
    },
    {
      "cell_type": "code",
      "metadata": {
        "colab": {
          "base_uri": "https://localhost:8080/",
          "height": 240
        },
        "id": "Qw_SmfkaIeo_",
        "outputId": "6c176397-8d97-4b50-bc35-d42a94af39f9"
      },
      "source": [
        "#Importando 'table_B'\r\n",
        "df = pd.read_sql_query(\"select * from table_B;\", con)\r\n",
        "display(df.head())\r\n",
        "\r\n",
        "print(\"\\n\\n Dimensões da table_B:\",df.shape)"
      ],
      "execution_count": null,
      "outputs": [
        {
          "output_type": "display_data",
          "data": {
            "text/html": [
              "<div>\n",
              "<style scoped>\n",
              "    .dataframe tbody tr th:only-of-type {\n",
              "        vertical-align: middle;\n",
              "    }\n",
              "\n",
              "    .dataframe tbody tr th {\n",
              "        vertical-align: top;\n",
              "    }\n",
              "\n",
              "    .dataframe thead th {\n",
              "        text-align: right;\n",
              "    }\n",
              "</style>\n",
              "<table border=\"1\" class=\"dataframe\">\n",
              "  <thead>\n",
              "    <tr style=\"text-align: right;\">\n",
              "      <th></th>\n",
              "      <th>convId</th>\n",
              "      <th>channel</th>\n",
              "      <th>ihcFrac</th>\n",
              "    </tr>\n",
              "  </thead>\n",
              "  <tbody>\n",
              "    <tr>\n",
              "      <th>0</th>\n",
              "      <td>881152bb20f9b73daafb99d77714f38ac702629c</td>\n",
              "      <td>H</td>\n",
              "      <td>1.000000</td>\n",
              "    </tr>\n",
              "    <tr>\n",
              "      <th>1</th>\n",
              "      <td>faf5c1181ea84a32237dff45ca201d2c28f19d7b</td>\n",
              "      <td>I</td>\n",
              "      <td>0.300250</td>\n",
              "    </tr>\n",
              "    <tr>\n",
              "      <th>2</th>\n",
              "      <td>faf5c1181ea84a32237dff45ca201d2c28f19d7b</td>\n",
              "      <td>A</td>\n",
              "      <td>0.322839</td>\n",
              "    </tr>\n",
              "    <tr>\n",
              "      <th>3</th>\n",
              "      <td>faf5c1181ea84a32237dff45ca201d2c28f19d7b</td>\n",
              "      <td>E</td>\n",
              "      <td>0.376911</td>\n",
              "    </tr>\n",
              "    <tr>\n",
              "      <th>4</th>\n",
              "      <td>b0e58a88459ece1b585ca22c93e633dc56273b83</td>\n",
              "      <td>H</td>\n",
              "      <td>1.000000</td>\n",
              "    </tr>\n",
              "  </tbody>\n",
              "</table>\n",
              "</div>"
            ],
            "text/plain": [
              "                                     convId channel   ihcFrac\n",
              "0  881152bb20f9b73daafb99d77714f38ac702629c       H  1.000000\n",
              "1  faf5c1181ea84a32237dff45ca201d2c28f19d7b       I  0.300250\n",
              "2  faf5c1181ea84a32237dff45ca201d2c28f19d7b       A  0.322839\n",
              "3  faf5c1181ea84a32237dff45ca201d2c28f19d7b       E  0.376911\n",
              "4  b0e58a88459ece1b585ca22c93e633dc56273b83       H  1.000000"
            ]
          },
          "metadata": {
            "tags": []
          }
        },
        {
          "output_type": "stream",
          "text": [
            "\n",
            "\n",
            " Dimensões da table_B: (211060, 3)\n"
          ],
          "name": "stdout"
        }
      ]
    },
    {
      "cell_type": "code",
      "metadata": {
        "colab": {
          "base_uri": "https://localhost:8080/",
          "height": 240
        },
        "id": "zgT1vIkZLjtc",
        "outputId": "550fe3c1-5f9c-4439-fcdf-18b4897f804a"
      },
      "source": [
        "#Importando 'table_A'\r\n",
        "df1 = pd.read_sql_query(\"select * from table_A;\", con)\r\n",
        "display(df1.head())\r\n",
        "\r\n",
        "print(\"\\n\\n Dimensões da table_A:\",df1.shape)"
      ],
      "execution_count": null,
      "outputs": [
        {
          "output_type": "display_data",
          "data": {
            "text/html": [
              "<div>\n",
              "<style scoped>\n",
              "    .dataframe tbody tr th:only-of-type {\n",
              "        vertical-align: middle;\n",
              "    }\n",
              "\n",
              "    .dataframe tbody tr th {\n",
              "        vertical-align: top;\n",
              "    }\n",
              "\n",
              "    .dataframe thead th {\n",
              "        text-align: right;\n",
              "    }\n",
              "</style>\n",
              "<table border=\"1\" class=\"dataframe\">\n",
              "  <thead>\n",
              "    <tr style=\"text-align: right;\">\n",
              "      <th></th>\n",
              "      <th>convId</th>\n",
              "      <th>userId</th>\n",
              "      <th>revenue</th>\n",
              "      <th>createdAt</th>\n",
              "    </tr>\n",
              "  </thead>\n",
              "  <tbody>\n",
              "    <tr>\n",
              "      <th>0</th>\n",
              "      <td>881152bb20f9b73daafb99d77714f38ac702629c</td>\n",
              "      <td>5094298f068196c5349d43847de5afc9125cf989</td>\n",
              "      <td>47.00000</td>\n",
              "      <td>06-03-2017</td>\n",
              "    </tr>\n",
              "    <tr>\n",
              "      <th>1</th>\n",
              "      <td>faf5c1181ea84a32237dff45ca201d2c28f19d7b</td>\n",
              "      <td>None</td>\n",
              "      <td>98.00004</td>\n",
              "      <td>02-03-2017</td>\n",
              "    </tr>\n",
              "    <tr>\n",
              "      <th>2</th>\n",
              "      <td>b0e58a88459ece1b585ca22c93e633dc56273b83</td>\n",
              "      <td>None</td>\n",
              "      <td>180.35300</td>\n",
              "      <td>02-03-2017</td>\n",
              "    </tr>\n",
              "    <tr>\n",
              "      <th>3</th>\n",
              "      <td>f0e6b7de22332c7b18c024e550bb1d860130cdf1</td>\n",
              "      <td>433fdf385e33176cf9b0d67ecf383aa928fa261c</td>\n",
              "      <td>201.94104</td>\n",
              "      <td>23-03-2017</td>\n",
              "    </tr>\n",
              "    <tr>\n",
              "      <th>4</th>\n",
              "      <td>966568c7c859480c79b212520d20a51e735fd735</td>\n",
              "      <td>None</td>\n",
              "      <td>197.47008</td>\n",
              "      <td>03-03-2017</td>\n",
              "    </tr>\n",
              "  </tbody>\n",
              "</table>\n",
              "</div>"
            ],
            "text/plain": [
              "                                     convId  ...   createdAt\n",
              "0  881152bb20f9b73daafb99d77714f38ac702629c  ...  06-03-2017\n",
              "1  faf5c1181ea84a32237dff45ca201d2c28f19d7b  ...  02-03-2017\n",
              "2  b0e58a88459ece1b585ca22c93e633dc56273b83  ...  02-03-2017\n",
              "3  f0e6b7de22332c7b18c024e550bb1d860130cdf1  ...  23-03-2017\n",
              "4  966568c7c859480c79b212520d20a51e735fd735  ...  03-03-2017\n",
              "\n",
              "[5 rows x 4 columns]"
            ]
          },
          "metadata": {
            "tags": []
          }
        },
        {
          "output_type": "stream",
          "text": [
            "\n",
            "\n",
            " Dimensões da table_A: (79643, 4)\n"
          ],
          "name": "stdout"
        }
      ]
    },
    {
      "cell_type": "code",
      "metadata": {
        "colab": {
          "base_uri": "https://localhost:8080/",
          "height": 191
        },
        "id": "Nfcz1_Y1L2Kb",
        "outputId": "0e7727d9-2121-405d-ff6b-c45677e9782d"
      },
      "source": [
        "#Montando Dataframe (Base_final = 'table_B' + 'table_A') \r\n",
        "\r\n",
        "df_bd = pd.merge(df1,df,how='right',on='convId')\r\n",
        "df_bd.head()"
      ],
      "execution_count": null,
      "outputs": [
        {
          "output_type": "execute_result",
          "data": {
            "text/html": [
              "<div>\n",
              "<style scoped>\n",
              "    .dataframe tbody tr th:only-of-type {\n",
              "        vertical-align: middle;\n",
              "    }\n",
              "\n",
              "    .dataframe tbody tr th {\n",
              "        vertical-align: top;\n",
              "    }\n",
              "\n",
              "    .dataframe thead th {\n",
              "        text-align: right;\n",
              "    }\n",
              "</style>\n",
              "<table border=\"1\" class=\"dataframe\">\n",
              "  <thead>\n",
              "    <tr style=\"text-align: right;\">\n",
              "      <th></th>\n",
              "      <th>convId</th>\n",
              "      <th>userId</th>\n",
              "      <th>revenue</th>\n",
              "      <th>createdAt</th>\n",
              "      <th>channel</th>\n",
              "      <th>ihcFrac</th>\n",
              "    </tr>\n",
              "  </thead>\n",
              "  <tbody>\n",
              "    <tr>\n",
              "      <th>0</th>\n",
              "      <td>881152bb20f9b73daafb99d77714f38ac702629c</td>\n",
              "      <td>5094298f068196c5349d43847de5afc9125cf989</td>\n",
              "      <td>47.00000</td>\n",
              "      <td>06-03-2017</td>\n",
              "      <td>H</td>\n",
              "      <td>1.000000</td>\n",
              "    </tr>\n",
              "    <tr>\n",
              "      <th>1</th>\n",
              "      <td>faf5c1181ea84a32237dff45ca201d2c28f19d7b</td>\n",
              "      <td>None</td>\n",
              "      <td>98.00004</td>\n",
              "      <td>02-03-2017</td>\n",
              "      <td>I</td>\n",
              "      <td>0.300250</td>\n",
              "    </tr>\n",
              "    <tr>\n",
              "      <th>2</th>\n",
              "      <td>faf5c1181ea84a32237dff45ca201d2c28f19d7b</td>\n",
              "      <td>None</td>\n",
              "      <td>98.00004</td>\n",
              "      <td>02-03-2017</td>\n",
              "      <td>A</td>\n",
              "      <td>0.322839</td>\n",
              "    </tr>\n",
              "    <tr>\n",
              "      <th>3</th>\n",
              "      <td>faf5c1181ea84a32237dff45ca201d2c28f19d7b</td>\n",
              "      <td>None</td>\n",
              "      <td>98.00004</td>\n",
              "      <td>02-03-2017</td>\n",
              "      <td>E</td>\n",
              "      <td>0.376911</td>\n",
              "    </tr>\n",
              "    <tr>\n",
              "      <th>4</th>\n",
              "      <td>b0e58a88459ece1b585ca22c93e633dc56273b83</td>\n",
              "      <td>None</td>\n",
              "      <td>180.35300</td>\n",
              "      <td>02-03-2017</td>\n",
              "      <td>H</td>\n",
              "      <td>1.000000</td>\n",
              "    </tr>\n",
              "  </tbody>\n",
              "</table>\n",
              "</div>"
            ],
            "text/plain": [
              "                                     convId  ...   ihcFrac\n",
              "0  881152bb20f9b73daafb99d77714f38ac702629c  ...  1.000000\n",
              "1  faf5c1181ea84a32237dff45ca201d2c28f19d7b  ...  0.300250\n",
              "2  faf5c1181ea84a32237dff45ca201d2c28f19d7b  ...  0.322839\n",
              "3  faf5c1181ea84a32237dff45ca201d2c28f19d7b  ...  0.376911\n",
              "4  b0e58a88459ece1b585ca22c93e633dc56273b83  ...  1.000000\n",
              "\n",
              "[5 rows x 6 columns]"
            ]
          },
          "metadata": {
            "tags": []
          },
          "execution_count": 15
        }
      ]
    },
    {
      "cell_type": "code",
      "metadata": {
        "id": "oqsPKhzL9uyL"
      },
      "source": [
        " # Conversão da coluna 'createdAt' para datetime \r\n",
        "df_bd['createdAt'] = pd.to_datetime(df_bd.createdAt,format=\"%d-%m-%Y\")\r\n",
        "\r\n",
        "# Criando novas features de tempo\r\n",
        "\r\n",
        "df_bd['day'] = df_bd.createdAt.dt.day\r\n",
        "df_bd['week'] = df_bd.createdAt.dt.weekday\r\n",
        "df_bd['month'] = df_bd.createdAt.dt.month\r\n",
        "df_bd['year'] = df_bd.createdAt.dt.year"
      ],
      "execution_count": null,
      "outputs": []
    },
    {
      "cell_type": "code",
      "metadata": {
        "id": "hYFii02KSmWK"
      },
      "source": [
        "# Encurtando ID para 10 caracteres para otimizar vizualizações e busca\r\n",
        "df_bd['convId'] = df_bd['convId'].str.slice(0,10)\r\n",
        "df_bd['userId'] = df_bd['userId'].str.slice(0,10)\r\n",
        "df_bd.set_index('convId',inplace=True)"
      ],
      "execution_count": null,
      "outputs": []
    },
    {
      "cell_type": "markdown",
      "metadata": {
        "id": "-BosdRU5MHiI"
      },
      "source": [
        "## Pré análise estrutural dos dados"
      ]
    },
    {
      "cell_type": "code",
      "metadata": {
        "colab": {
          "base_uri": "https://localhost:8080/",
          "height": 228
        },
        "id": "yVspIIdsTwST",
        "outputId": "4df2ffc2-8206-4a84-f7fa-754692be64e2"
      },
      "source": [
        "#Tipo das variáveis e dimenmsões do dataframe\r\n",
        "print(\"Variáveis: \\t {}\".format(df_bd.shape[1]))\r\n",
        "print(\"Entradas: \\t {}\\n\".format(df_bd.shape[0]))\r\n",
        "\r\n",
        "display(df_bd.dtypes)"
      ],
      "execution_count": null,
      "outputs": [
        {
          "output_type": "stream",
          "text": [
            "Variáveis: \t 9\n",
            "Entradas: \t 211060\n",
            "\n"
          ],
          "name": "stdout"
        },
        {
          "output_type": "display_data",
          "data": {
            "text/plain": [
              "userId               object\n",
              "revenue             float64\n",
              "createdAt    datetime64[ns]\n",
              "channel              object\n",
              "ihcFrac             float64\n",
              "day                   int64\n",
              "week                  int64\n",
              "month                 int64\n",
              "year                  int64\n",
              "dtype: object"
            ]
          },
          "metadata": {
            "tags": []
          }
        }
      ]
    },
    {
      "cell_type": "code",
      "metadata": {
        "colab": {
          "base_uri": "https://localhost:8080/"
        },
        "id": "tzYA3aoif0QT",
        "outputId": "2321c60a-8d07-4b2b-ae17-95e1f644a550"
      },
      "source": [
        "#Identificando valores nulos\r\n",
        "print(df_bd.isnull().sum()/df_bd.shape[0]*100,\"\\n\")\r\n",
        "\r\n",
        "\r\n",
        "print(\"Entradas vazias de 'userId' :\",df_bd['userId'].isnull().sum())\r\n",
        "print(\"Entradas de 'userId' :\",df_bd['userId'].value_counts().sum(),\"\\n\")\r\n",
        "print(\"# Quantidade total de 'userId' ou clientes :\",df_bd.shape[0])"
      ],
      "execution_count": null,
      "outputs": [
        {
          "output_type": "stream",
          "text": [
            "userId       3.145077\n",
            "revenue      0.000000\n",
            "createdAt    0.000000\n",
            "channel      0.000000\n",
            "ihcFrac      0.000000\n",
            "day          0.000000\n",
            "week         0.000000\n",
            "month        0.000000\n",
            "year         0.000000\n",
            "dtype: float64 \n",
            "\n",
            "Entradas vazias de 'userId' : 6638\n",
            "Entradas de 'userId' : 204422 \n",
            "\n",
            "# Quantidade total de 'userId' ou clientes : 211060\n"
          ],
          "name": "stdout"
        }
      ]
    },
    {
      "cell_type": "markdown",
      "metadata": {
        "id": "RrzJbfuIG4Ql"
      },
      "source": [
        "Observando a presença de valores nulos, temos uma pequena concentração na variável `userId ` com 3,15% de dados ausentes. Cosiderando essa uma proporção bem pequena, não teremos problemas inicialmente no contexto de analise, pois o insight que iremos tirar dela é quantitativo. Mais cabe essa nota de atenção, para acompanharmos se no decorrer do tempo com novos inputs de abastecimento desses dados, esse valor de ausentes está crescendo."
      ]
    },
    {
      "cell_type": "markdown",
      "metadata": {
        "id": "V95sQORFtIB0"
      },
      "source": [
        "## Informações Estatística aderência de conversão e transações"
      ]
    },
    {
      "cell_type": "code",
      "metadata": {
        "colab": {
          "base_uri": "https://localhost:8080/",
          "height": 277
        },
        "id": "s7Mgo5oVrTv2",
        "outputId": "f4381d0d-13a4-4d5f-f520-e1fb6521a848"
      },
      "source": [
        "#Analise estatistica das variaveis\r\n",
        "df_bd[['ihcFrac','revenue']].describe()"
      ],
      "execution_count": null,
      "outputs": [
        {
          "output_type": "execute_result",
          "data": {
            "text/html": [
              "<div>\n",
              "<style scoped>\n",
              "    .dataframe tbody tr th:only-of-type {\n",
              "        vertical-align: middle;\n",
              "    }\n",
              "\n",
              "    .dataframe tbody tr th {\n",
              "        vertical-align: top;\n",
              "    }\n",
              "\n",
              "    .dataframe thead th {\n",
              "        text-align: right;\n",
              "    }\n",
              "</style>\n",
              "<table border=\"1\" class=\"dataframe\">\n",
              "  <thead>\n",
              "    <tr style=\"text-align: right;\">\n",
              "      <th></th>\n",
              "      <th>ihcFrac</th>\n",
              "      <th>revenue</th>\n",
              "    </tr>\n",
              "  </thead>\n",
              "  <tbody>\n",
              "    <tr>\n",
              "      <th>count</th>\n",
              "      <td>211060.000000</td>\n",
              "      <td>211060.000000</td>\n",
              "    </tr>\n",
              "    <tr>\n",
              "      <th>mean</th>\n",
              "      <td>0.377215</td>\n",
              "      <td>182.981662</td>\n",
              "    </tr>\n",
              "    <tr>\n",
              "      <th>std</th>\n",
              "      <td>0.359694</td>\n",
              "      <td>112.530454</td>\n",
              "    </tr>\n",
              "    <tr>\n",
              "      <th>min</th>\n",
              "      <td>0.000000</td>\n",
              "      <td>20.000000</td>\n",
              "    </tr>\n",
              "    <tr>\n",
              "      <th>25%</th>\n",
              "      <td>0.021454</td>\n",
              "      <td>116.132000</td>\n",
              "    </tr>\n",
              "    <tr>\n",
              "      <th>50%</th>\n",
              "      <td>0.301501</td>\n",
              "      <td>161.352000</td>\n",
              "    </tr>\n",
              "    <tr>\n",
              "      <th>75%</th>\n",
              "      <td>0.578395</td>\n",
              "      <td>217.744000</td>\n",
              "    </tr>\n",
              "    <tr>\n",
              "      <th>max</th>\n",
              "      <td>1.000000</td>\n",
              "      <td>4596.476000</td>\n",
              "    </tr>\n",
              "  </tbody>\n",
              "</table>\n",
              "</div>"
            ],
            "text/plain": [
              "             ihcFrac        revenue\n",
              "count  211060.000000  211060.000000\n",
              "mean        0.377215     182.981662\n",
              "std         0.359694     112.530454\n",
              "min         0.000000      20.000000\n",
              "25%         0.021454     116.132000\n",
              "50%         0.301501     161.352000\n",
              "75%         0.578395     217.744000\n",
              "max         1.000000    4596.476000"
            ]
          },
          "metadata": {
            "tags": []
          },
          "execution_count": 20
        }
      ]
    },
    {
      "cell_type": "markdown",
      "metadata": {
        "id": "OItSIhdnuqt5"
      },
      "source": [
        "Nessa análise estatística, podemos observar de forma macro a distribuição entre as variáveis tornando explícito os pontos onde podemos extrair bons insights:\r\n",
        "\r\n",
        "*  Observando a variável `ihcFrac` podemos dizer que a maior concentração dos dados proporcionalmente em 75% tem como resultado 0.58. E comparando a conversão em efetivo por meio do canal que equivale a 1.0 podemos dizer, que temos uma aderência da maior parte dos acessos em 58% de contribuição do canal para conversão.\r\n",
        "\r\n",
        "* Para a variável `revenue` conseguimos ver que 75% das transações realizadas tem como receita 217,74 podendo chegar no minimo em 20,00. Iremos ivestigar esse valor máx pois olhado para o desvio padrão, possivelmente existe a presença de outliers.\r\n"
      ]
    },
    {
      "cell_type": "code",
      "metadata": {
        "colab": {
          "base_uri": "https://localhost:8080/",
          "height": 313
        },
        "id": "MtUBYK0o_kt0",
        "outputId": "bf66d459-6c6b-4b66-e636-771c3d0d6fc0"
      },
      "source": [
        "df_bd[['ihcFrac','revenue']].plot(kind='box', vert=False)\r\n",
        "plt.show()\r\n",
        "\r\n",
        "print(\"\\n Quantidade entradas acima de 2000 ->\",len(df_bd.loc[df_bd.revenue>2000]))\r\n",
        "print(\"% entradas acima de 2000 ->\",len(df_bd.loc[df_bd.revenue>2000])/df_bd.shape[0]*100)"
      ],
      "execution_count": null,
      "outputs": [
        {
          "output_type": "display_data",
          "data": {
            "image/png": "[encoded data removed]",
            "text/plain": [
              "<Figure size 432x288 with 1 Axes>"
            ]
          },
          "metadata": {
            "tags": [],
            "needs_background": "light"
          }
        },
        {
          "output_type": "stream",
          "text": [
            "\n",
            " Quantidade entradas acima de 2000 -> 40\n",
            "% entradas acima de 2000 -> 0.01895195678953852\n"
          ],
          "name": "stdout"
        }
      ]
    },
    {
      "cell_type": "markdown",
      "metadata": {
        "id": "-pCKN_F-_xr2"
      },
      "source": [
        "Como podemos observar na analise de `box-plot` possivelmente intervalos acima de 2000 esteja realmente fora de serie, para que possamos trabalhar com um cenário melhor reflete a realidade, estaremos copiando um dataset sem esse intervalo."
      ]
    },
    {
      "cell_type": "code",
      "metadata": {
        "id": "f17x0fUZAPXc"
      },
      "source": [
        "#Remoçaõ de outliers\r\n",
        "df_clean = df_bd.copy()\r\n",
        "df_clean.drop(df_clean[df_clean.revenue>2000].index, axis=0, inplace= True)"
      ],
      "execution_count": null,
      "outputs": []
    },
    {
      "cell_type": "markdown",
      "metadata": {
        "id": "Kq9TA8ZeMNU3"
      },
      "source": [
        "## Volume de receita e índice de IhcFrac \r\n"
      ]
    },
    {
      "cell_type": "code",
      "metadata": {
        "colab": {
          "base_uri": "https://localhost:8080/",
          "height": 166
        },
        "id": "Fg-6kMupFDSX",
        "outputId": "aeed80a6-e710-4405-85b3-bd8fff5973a3"
      },
      "source": [
        "print(\"# Variação de volume de receitas `revenue`:\\n\\t\")\r\n",
        "display(df_clean.groupby('year')['revenue'].agg([\"sum\",\"mean\",\"median\",\"max\",\"min\",\"count\"]).astype(int))"
      ],
      "execution_count": null,
      "outputs": [
        {
          "output_type": "stream",
          "text": [
            "# Variação de volume de receitas `revenue`:\n",
            "\t\n"
          ],
          "name": "stdout"
        },
        {
          "output_type": "display_data",
          "data": {
            "text/html": [
              "<div>\n",
              "<style scoped>\n",
              "    .dataframe tbody tr th:only-of-type {\n",
              "        vertical-align: middle;\n",
              "    }\n",
              "\n",
              "    .dataframe tbody tr th {\n",
              "        vertical-align: top;\n",
              "    }\n",
              "\n",
              "    .dataframe thead th {\n",
              "        text-align: right;\n",
              "    }\n",
              "</style>\n",
              "<table border=\"1\" class=\"dataframe\">\n",
              "  <thead>\n",
              "    <tr style=\"text-align: right;\">\n",
              "      <th></th>\n",
              "      <th>sum</th>\n",
              "      <th>mean</th>\n",
              "      <th>median</th>\n",
              "      <th>max</th>\n",
              "      <th>min</th>\n",
              "      <th>count</th>\n",
              "    </tr>\n",
              "    <tr>\n",
              "      <th>year</th>\n",
              "      <th></th>\n",
              "      <th></th>\n",
              "      <th></th>\n",
              "      <th></th>\n",
              "      <th></th>\n",
              "      <th></th>\n",
              "    </tr>\n",
              "  </thead>\n",
              "  <tbody>\n",
              "    <tr>\n",
              "      <th>2017</th>\n",
              "      <td>29256106</td>\n",
              "      <td>183</td>\n",
              "      <td>161</td>\n",
              "      <td>1832</td>\n",
              "      <td>20</td>\n",
              "      <td>159120</td>\n",
              "    </tr>\n",
              "    <tr>\n",
              "      <th>2018</th>\n",
              "      <td>9238222</td>\n",
              "      <td>178</td>\n",
              "      <td>160</td>\n",
              "      <td>1500</td>\n",
              "      <td>27</td>\n",
              "      <td>51900</td>\n",
              "    </tr>\n",
              "  </tbody>\n",
              "</table>\n",
              "</div>"
            ],
            "text/plain": [
              "           sum  mean  median   max  min   count\n",
              "year                                           \n",
              "2017  29256106   183     161  1832   20  159120\n",
              "2018   9238222   178     160  1500   27   51900"
            ]
          },
          "metadata": {
            "tags": []
          }
        }
      ]
    },
    {
      "cell_type": "code",
      "metadata": {
        "colab": {
          "base_uri": "https://localhost:8080/",
          "height": 166
        },
        "id": "8Btsm-QbSpRK",
        "outputId": "3b01c88f-bd07-424e-e1a3-b48c2498db0f"
      },
      "source": [
        "print(\"# Variação de conversão índice de `ihcFrac` :\\n\\t\")\r\n",
        "display(df_clean.groupby('year')['ihcFrac'].agg([\"mean\",\"median\",\"max\",\"min\",\"count\"]))"
      ],
      "execution_count": null,
      "outputs": [
        {
          "output_type": "stream",
          "text": [
            "# Variação de conversão índice de `ihcFrac` :\n",
            "\t\n"
          ],
          "name": "stdout"
        },
        {
          "output_type": "display_data",
          "data": {
            "text/html": [
              "<div>\n",
              "<style scoped>\n",
              "    .dataframe tbody tr th:only-of-type {\n",
              "        vertical-align: middle;\n",
              "    }\n",
              "\n",
              "    .dataframe tbody tr th {\n",
              "        vertical-align: top;\n",
              "    }\n",
              "\n",
              "    .dataframe thead th {\n",
              "        text-align: right;\n",
              "    }\n",
              "</style>\n",
              "<table border=\"1\" class=\"dataframe\">\n",
              "  <thead>\n",
              "    <tr style=\"text-align: right;\">\n",
              "      <th></th>\n",
              "      <th>mean</th>\n",
              "      <th>median</th>\n",
              "      <th>max</th>\n",
              "      <th>min</th>\n",
              "      <th>count</th>\n",
              "    </tr>\n",
              "    <tr>\n",
              "      <th>year</th>\n",
              "      <th></th>\n",
              "      <th></th>\n",
              "      <th></th>\n",
              "      <th></th>\n",
              "      <th></th>\n",
              "    </tr>\n",
              "  </thead>\n",
              "  <tbody>\n",
              "    <tr>\n",
              "      <th>2017</th>\n",
              "      <td>0.388286</td>\n",
              "      <td>0.310904</td>\n",
              "      <td>1.0</td>\n",
              "      <td>0.0</td>\n",
              "      <td>159120</td>\n",
              "    </tr>\n",
              "    <tr>\n",
              "      <th>2018</th>\n",
              "      <td>0.343410</td>\n",
              "      <td>0.281870</td>\n",
              "      <td>1.0</td>\n",
              "      <td>0.0</td>\n",
              "      <td>51900</td>\n",
              "    </tr>\n",
              "  </tbody>\n",
              "</table>\n",
              "</div>"
            ],
            "text/plain": [
              "          mean    median  max  min   count\n",
              "year                                      \n",
              "2017  0.388286  0.310904  1.0  0.0  159120\n",
              "2018  0.343410  0.281870  1.0  0.0   51900"
            ]
          },
          "metadata": {
            "tags": []
          }
        }
      ]
    },
    {
      "cell_type": "markdown",
      "metadata": {
        "id": "KsAxt9HRWFh-"
      },
      "source": [
        "Na analise das duas variáveis devemos deixar claro que a quantidade de inputs para os meses são bem descrepantes, devido ao fato do nosso dataset ter apenas 3 meses de registro para o ano de 2018 e para o ano de 2017 temos 10 meses. Estamos falando de uma proporção de 75% para 25% ou seja, não devemos comparar os anos mais podemos olhar para o ano de 2017 utilizando seus valores como regua de valores que já alcançamos, utilizando esses resultados como oportunidade de alavancagem no caso de benchmarks e alarme em aproximações de piores resultados já alcançado.  "
      ]
    },
    {
      "cell_type": "markdown",
      "metadata": {
        "id": "4GdlheL6Tqn1"
      },
      "source": [
        "# Analise temporal de média de receita e índice de IhcFrac"
      ]
    },
    {
      "cell_type": "code",
      "metadata": {
        "colab": {
          "base_uri": "https://localhost:8080/",
          "height": 701
        },
        "id": "2QW_qOy7A6eu",
        "outputId": "3295f7f5-9f50-4efc-c754-69c1baa9b269"
      },
      "source": [
        "#Variação de média mês\r\n",
        "\r\n",
        "month_year = pd.to_datetime(df_clean.createdAt).dt.strftime('%Y-%m')\r\n",
        "month_or = sorted(month_year)\r\n",
        "\r\n",
        "rece = df_clean['revenue']\r\n",
        "\r\n",
        "fig, ax= plt.subplots(figsize=(10,6))\r\n",
        "\r\n",
        "sns.barplot(x=month_or, y=rece,ax=ax)\r\n",
        "\r\n",
        "\r\n",
        "ax.spines['right'].set_visible(False)\r\n",
        "ax.spines['left'].set_visible(False)\r\n",
        "ax.spines['top'].set_visible(False)\r\n",
        "ax.spines['bottom'].set_visible(False)\r\n",
        "plt.xlabel(\"\")\r\n",
        "\r\n",
        "plt.title(\"Receita média de transações no decorrer dos meses\", fontsize=16)\r\n",
        "plt.xticks(rotation=70)\r\n",
        "plt.tight_layout()\r\n",
        "plt.show()\r\n",
        "\r\n",
        "print(\"\\n\")\r\n",
        "print(df_clean.groupby(month_or,sort=False)['revenue'].mean())"
      ],
      "execution_count": null,
      "outputs": [
        {
          "output_type": "display_data",
          "data": {
            "image/png": "[encoded data removed]",
            "text/plain": [
              "<Figure size 720x432 with 1 Axes>"
            ]
          },
          "metadata": {
            "tags": [],
            "needs_background": "light"
          }
        },
        {
          "output_type": "stream",
          "text": [
            "\n",
            "\n",
            "2017-03    192.915948\n",
            "2017-04    230.309266\n",
            "2017-05    159.145032\n",
            "2017-06    178.105803\n",
            "2017-07    172.060884\n",
            "2017-08    159.100173\n",
            "2017-09    178.945587\n",
            "2017-10    190.230226\n",
            "2017-11    179.822636\n",
            "2017-12    177.743031\n",
            "2018-01    176.346451\n",
            "2018-02    180.794420\n",
            "2018-03    176.648412\n",
            "Name: revenue, dtype: float64\n"
          ],
          "name": "stdout"
        }
      ]
    },
    {
      "cell_type": "markdown",
      "metadata": {
        "id": "rDgddm_dWByE"
      },
      "source": [
        "  Quando plotamos os resultados médio de custo de transações em função dos meses, podemos concluir que o mês de Abr/17 foi onde tivemos a melhor variação de receita com 230,31. E se compararmos 3 meses de cada ano e conflitar as médias, teremos ainda melhor desempenho para o ano de 2017 em relação a 2018."
      ]
    },
    {
      "cell_type": "code",
      "metadata": {
        "colab": {
          "base_uri": "https://localhost:8080/",
          "height": 733
        },
        "id": "DvmiWr5fT-iK",
        "outputId": "b78b0276-b077-4d43-afcb-5bab48756a88"
      },
      "source": [
        "#Variação de média mês\r\n",
        "\r\n",
        "ihcFrac = df_clean['ihcFrac']\r\n",
        "\r\n",
        "fig, ax= plt.subplots(figsize=(10,6))\r\n",
        "\r\n",
        "sns.barplot(x=month_or, y=ihcFrac,ax=ax)\r\n",
        "\r\n",
        "\r\n",
        "ax.spines['right'].set_visible(False)\r\n",
        "ax.spines['left'].set_visible(False)\r\n",
        "ax.spines['top'].set_visible(False)\r\n",
        "ax.spines['bottom'].set_visible(False)\r\n",
        "plt.xlabel(\"\")\r\n",
        "\r\n",
        "plt.title(\"Proporção média de clientes que retornam por contribuição do canal (IHC) decorrer dos meses\", fontsize=16)\r\n",
        "plt.xticks(rotation=70)\r\n",
        "plt.tight_layout()\r\n",
        "plt.show()\r\n",
        "\r\n",
        "print(\"\\n\")\r\n",
        "print(df_clean.groupby(month_or,sort=False)['ihcFrac'].mean(),\"\\n\\n\")"
      ],
      "execution_count": null,
      "outputs": [
        {
          "output_type": "display_data",
          "data": {
            "image/png": "[encoded data removed]",
            "text/plain": [
              "<Figure size 720x432 with 1 Axes>"
            ]
          },
          "metadata": {
            "tags": [],
            "needs_background": "light"
          }
        },
        {
          "output_type": "stream",
          "text": [
            "\n",
            "\n",
            "2017-03    0.459101\n",
            "2017-04    0.445891\n",
            "2017-05    0.394192\n",
            "2017-06    0.376254\n",
            "2017-07    0.385779\n",
            "2017-08    0.377824\n",
            "2017-09    0.358518\n",
            "2017-10    0.382847\n",
            "2017-11    0.364957\n",
            "2017-12    0.354009\n",
            "2018-01    0.366423\n",
            "2018-02    0.330717\n",
            "2018-03    0.334753\n",
            "Name: ihcFrac, dtype: float64 \n",
            "\n",
            "\n"
          ],
          "name": "stdout"
        }
      ]
    },
    {
      "cell_type": "markdown",
      "metadata": {
        "id": "rRNdYfspyFa8"
      },
      "source": [
        "Avaliando a proporção de contribuição dos canais, tivemos as melhores médias entre os meses de Mar/17 (0.46-46%) e Abr/17 (0.44-44%) ambos tiveram, também os melhores valores médio em retorno de transação. O ponto de atenção fica para o ano de 2018 que vem apresentando, uma tendência de queda na contribuição de conversão entre os canais. Para compreender o comportamento desses canais no ano de 2018 com intuito, de identificarmos  oportunidade entre os canais de baixo engajamento e alto egajamento, iremos estratificar a distribuição por canal."
      ]
    },
    {
      "cell_type": "markdown",
      "metadata": {
        "id": "npEQ42221bBg"
      },
      "source": [
        "## Estratificando a representatividade de canais do ano 2018 e abrindo a receita e índice de IhcFrac"
      ]
    },
    {
      "cell_type": "code",
      "metadata": {
        "colab": {
          "base_uri": "https://localhost:8080/"
        },
        "id": "4OyXRVdd1agP",
        "outputId": "9f7e5182-2be7-4106-e72c-43cf593959d1"
      },
      "source": [
        "#Proporção de canais por quantidade de trasações realizada 2018\r\n",
        "df_18 = df_clean.loc[df_clean.year==2018]\r\n",
        "print(\" # top 10 canais com mais transações:\\n\")\r\n",
        "print(((df_18.channel.value_counts()/df_18.shape[0]*100)[:10]),\"\\n\\n\")\r\n",
        "\r\n",
        "print(\" # top 10 canais com menos transações:\\n\")\r\n",
        "print((df_18.channel.value_counts()/df_18.shape[0]*100).sort_values(ascending=True)[0:10])"
      ],
      "execution_count": null,
      "outputs": [
        {
          "output_type": "stream",
          "text": [
            " # top 10 canais com mais transações:\n",
            "\n",
            "G    16.809249\n",
            "A    15.861272\n",
            "H    12.890173\n",
            "B    12.558767\n",
            "E    11.296724\n",
            "I     8.269750\n",
            "C     4.186898\n",
            "K     4.152216\n",
            "F     3.082852\n",
            "S     2.861272\n",
            "Name: channel, dtype: float64 \n",
            "\n",
            "\n",
            " # top 10 canais com menos transações:\n",
            "\n",
            "N    0.030829\n",
            "J    0.057803\n",
            "V    0.084778\n",
            "T    0.084778\n",
            "O    0.113680\n",
            "P    0.269750\n",
            "U    0.271676\n",
            "M    1.215800\n",
            "D    1.585742\n",
            "R    1.587669\n",
            "Name: channel, dtype: float64\n"
          ],
          "name": "stdout"
        }
      ]
    },
    {
      "cell_type": "markdown",
      "metadata": {
        "id": "ywOwPt8R6w3l"
      },
      "source": [
        "A concentração de 80% das transações dos canais com maior representatividade, esta no intervalo do canal G até I esses são os pricipais canais utilizados pelos clientes, que possuem maior representatividade em 2018. Agora vamos aplicar a estratificação nos KPI's (Receita e índice de IhcFrac) para avaliar o desempenho desses top 10 canais com mais transações."
      ]
    },
    {
      "cell_type": "code",
      "metadata": {
        "colab": {
          "base_uri": "https://localhost:8080/",
          "height": 396
        },
        "id": "okZmptYwANFV",
        "outputId": "b3892e84-a143-4997-8ad4-cc9fd455714d"
      },
      "source": [
        "# Top 10 canais com mais transações 2018 `revenue`\r\n",
        "print(\"# Variação de volume de receitas `revenue` por canal :\\n\\t\")\r\n",
        "df_18.groupby('channel')['revenue'].agg([\"mean\",\"median\",\"max\",\"min\",\"count\"]).sort_values(by='count',ascending=False)[:10]"
      ],
      "execution_count": null,
      "outputs": [
        {
          "output_type": "stream",
          "text": [
            "# Variação de volume de receitas `revenue` por canal :\n",
            "\t\n"
          ],
          "name": "stdout"
        },
        {
          "output_type": "execute_result",
          "data": {
            "text/html": [
              "<div>\n",
              "<style scoped>\n",
              "    .dataframe tbody tr th:only-of-type {\n",
              "        vertical-align: middle;\n",
              "    }\n",
              "\n",
              "    .dataframe tbody tr th {\n",
              "        vertical-align: top;\n",
              "    }\n",
              "\n",
              "    .dataframe thead th {\n",
              "        text-align: right;\n",
              "    }\n",
              "</style>\n",
              "<table border=\"1\" class=\"dataframe\">\n",
              "  <thead>\n",
              "    <tr style=\"text-align: right;\">\n",
              "      <th></th>\n",
              "      <th>mean</th>\n",
              "      <th>median</th>\n",
              "      <th>max</th>\n",
              "      <th>min</th>\n",
              "      <th>count</th>\n",
              "    </tr>\n",
              "    <tr>\n",
              "      <th>channel</th>\n",
              "      <th></th>\n",
              "      <th></th>\n",
              "      <th></th>\n",
              "      <th></th>\n",
              "      <th></th>\n",
              "    </tr>\n",
              "  </thead>\n",
              "  <tbody>\n",
              "    <tr>\n",
              "      <th>G</th>\n",
              "      <td>178.775338</td>\n",
              "      <td>159.758</td>\n",
              "      <td>1500.232</td>\n",
              "      <td>28.532</td>\n",
              "      <td>8724</td>\n",
              "    </tr>\n",
              "    <tr>\n",
              "      <th>A</th>\n",
              "      <td>184.101651</td>\n",
              "      <td>166.224</td>\n",
              "      <td>1500.232</td>\n",
              "      <td>36.532</td>\n",
              "      <td>8232</td>\n",
              "    </tr>\n",
              "    <tr>\n",
              "      <th>H</th>\n",
              "      <td>174.292794</td>\n",
              "      <td>155.536</td>\n",
              "      <td>1257.360</td>\n",
              "      <td>27.532</td>\n",
              "      <td>6690</td>\n",
              "    </tr>\n",
              "    <tr>\n",
              "      <th>B</th>\n",
              "      <td>181.156857</td>\n",
              "      <td>165.724</td>\n",
              "      <td>1257.360</td>\n",
              "      <td>27.532</td>\n",
              "      <td>6518</td>\n",
              "    </tr>\n",
              "    <tr>\n",
              "      <th>E</th>\n",
              "      <td>182.891668</td>\n",
              "      <td>166.092</td>\n",
              "      <td>1500.232</td>\n",
              "      <td>36.876</td>\n",
              "      <td>5863</td>\n",
              "    </tr>\n",
              "    <tr>\n",
              "      <th>I</th>\n",
              "      <td>175.560434</td>\n",
              "      <td>158.832</td>\n",
              "      <td>846.056</td>\n",
              "      <td>28.532</td>\n",
              "      <td>4292</td>\n",
              "    </tr>\n",
              "    <tr>\n",
              "      <th>C</th>\n",
              "      <td>183.767637</td>\n",
              "      <td>166.900</td>\n",
              "      <td>1232.696</td>\n",
              "      <td>34.532</td>\n",
              "      <td>2173</td>\n",
              "    </tr>\n",
              "    <tr>\n",
              "      <th>K</th>\n",
              "      <td>157.386710</td>\n",
              "      <td>136.504</td>\n",
              "      <td>957.064</td>\n",
              "      <td>31.532</td>\n",
              "      <td>2155</td>\n",
              "    </tr>\n",
              "    <tr>\n",
              "      <th>F</th>\n",
              "      <td>177.478737</td>\n",
              "      <td>166.606</td>\n",
              "      <td>1500.232</td>\n",
              "      <td>39.980</td>\n",
              "      <td>1600</td>\n",
              "    </tr>\n",
              "    <tr>\n",
              "      <th>S</th>\n",
              "      <td>184.263898</td>\n",
              "      <td>171.328</td>\n",
              "      <td>798.180</td>\n",
              "      <td>34.532</td>\n",
              "      <td>1485</td>\n",
              "    </tr>\n",
              "  </tbody>\n",
              "</table>\n",
              "</div>"
            ],
            "text/plain": [
              "               mean   median       max     min  count\n",
              "channel                                              \n",
              "G        178.775338  159.758  1500.232  28.532   8724\n",
              "A        184.101651  166.224  1500.232  36.532   8232\n",
              "H        174.292794  155.536  1257.360  27.532   6690\n",
              "B        181.156857  165.724  1257.360  27.532   6518\n",
              "E        182.891668  166.092  1500.232  36.876   5863\n",
              "I        175.560434  158.832   846.056  28.532   4292\n",
              "C        183.767637  166.900  1232.696  34.532   2173\n",
              "K        157.386710  136.504   957.064  31.532   2155\n",
              "F        177.478737  166.606  1500.232  39.980   1600\n",
              "S        184.263898  171.328   798.180  34.532   1485"
            ]
          },
          "metadata": {
            "tags": []
          },
          "execution_count": 109
        }
      ]
    },
    {
      "cell_type": "code",
      "metadata": {
        "colab": {
          "base_uri": "https://localhost:8080/",
          "height": 363
        },
        "id": "xqYiG3_m83SQ",
        "outputId": "18865f5c-1b62-4449-b0e8-1721220640fe"
      },
      "source": [
        "# Top 10 canais com mais transações 2018 `ihcFrac`\r\n",
        "print(\"# Variação de conversão índice de `ihcFrac` por canal :\\n\\t\")\r\n",
        "df_18.groupby('channel')['ihcFrac'].agg([\"mean\",\"median\",\"max\",\"min\",\"count\"]).sort_values(by='count',ascending=False)[:10]"
      ],
      "execution_count": null,
      "outputs": [
        {
          "output_type": "execute_result",
          "data": {
            "text/html": [
              "<div>\n",
              "<style scoped>\n",
              "    .dataframe tbody tr th:only-of-type {\n",
              "        vertical-align: middle;\n",
              "    }\n",
              "\n",
              "    .dataframe tbody tr th {\n",
              "        vertical-align: top;\n",
              "    }\n",
              "\n",
              "    .dataframe thead th {\n",
              "        text-align: right;\n",
              "    }\n",
              "</style>\n",
              "<table border=\"1\" class=\"dataframe\">\n",
              "  <thead>\n",
              "    <tr style=\"text-align: right;\">\n",
              "      <th></th>\n",
              "      <th>mean</th>\n",
              "      <th>median</th>\n",
              "      <th>max</th>\n",
              "      <th>min</th>\n",
              "      <th>count</th>\n",
              "    </tr>\n",
              "    <tr>\n",
              "      <th>channel</th>\n",
              "      <th></th>\n",
              "      <th></th>\n",
              "      <th></th>\n",
              "      <th></th>\n",
              "      <th></th>\n",
              "    </tr>\n",
              "  </thead>\n",
              "  <tbody>\n",
              "    <tr>\n",
              "      <th>G</th>\n",
              "      <td>0.459167</td>\n",
              "      <td>0.399088</td>\n",
              "      <td>1.0</td>\n",
              "      <td>0.0</td>\n",
              "      <td>8724</td>\n",
              "    </tr>\n",
              "    <tr>\n",
              "      <th>A</th>\n",
              "      <td>0.461445</td>\n",
              "      <td>0.427892</td>\n",
              "      <td>1.0</td>\n",
              "      <td>0.0</td>\n",
              "      <td>8232</td>\n",
              "    </tr>\n",
              "    <tr>\n",
              "      <th>H</th>\n",
              "      <td>0.362007</td>\n",
              "      <td>0.300007</td>\n",
              "      <td>1.0</td>\n",
              "      <td>0.0</td>\n",
              "      <td>6690</td>\n",
              "    </tr>\n",
              "    <tr>\n",
              "      <th>B</th>\n",
              "      <td>0.400576</td>\n",
              "      <td>0.317908</td>\n",
              "      <td>1.0</td>\n",
              "      <td>0.0</td>\n",
              "      <td>6518</td>\n",
              "    </tr>\n",
              "    <tr>\n",
              "      <th>E</th>\n",
              "      <td>0.229525</td>\n",
              "      <td>0.113331</td>\n",
              "      <td>1.0</td>\n",
              "      <td>0.0</td>\n",
              "      <td>5863</td>\n",
              "    </tr>\n",
              "    <tr>\n",
              "      <th>I</th>\n",
              "      <td>0.253351</td>\n",
              "      <td>0.114904</td>\n",
              "      <td>1.0</td>\n",
              "      <td>0.0</td>\n",
              "      <td>4292</td>\n",
              "    </tr>\n",
              "    <tr>\n",
              "      <th>C</th>\n",
              "      <td>0.243035</td>\n",
              "      <td>0.300067</td>\n",
              "      <td>1.0</td>\n",
              "      <td>0.0</td>\n",
              "      <td>2173</td>\n",
              "    </tr>\n",
              "    <tr>\n",
              "      <th>K</th>\n",
              "      <td>0.268293</td>\n",
              "      <td>0.105186</td>\n",
              "      <td>1.0</td>\n",
              "      <td>0.0</td>\n",
              "      <td>2155</td>\n",
              "    </tr>\n",
              "    <tr>\n",
              "      <th>F</th>\n",
              "      <td>0.143461</td>\n",
              "      <td>0.020980</td>\n",
              "      <td>1.0</td>\n",
              "      <td>0.0</td>\n",
              "      <td>1600</td>\n",
              "    </tr>\n",
              "    <tr>\n",
              "      <th>S</th>\n",
              "      <td>0.169582</td>\n",
              "      <td>0.041659</td>\n",
              "      <td>1.0</td>\n",
              "      <td>0.0</td>\n",
              "      <td>1485</td>\n",
              "    </tr>\n",
              "  </tbody>\n",
              "</table>\n",
              "</div>"
            ],
            "text/plain": [
              "             mean    median  max  min  count\n",
              "channel                                     \n",
              "G        0.459167  0.399088  1.0  0.0   8724\n",
              "A        0.461445  0.427892  1.0  0.0   8232\n",
              "H        0.362007  0.300007  1.0  0.0   6690\n",
              "B        0.400576  0.317908  1.0  0.0   6518\n",
              "E        0.229525  0.113331  1.0  0.0   5863\n",
              "I        0.253351  0.114904  1.0  0.0   4292\n",
              "C        0.243035  0.300067  1.0  0.0   2173\n",
              "K        0.268293  0.105186  1.0  0.0   2155\n",
              "F        0.143461  0.020980  1.0  0.0   1600\n",
              "S        0.169582  0.041659  1.0  0.0   1485"
            ]
          },
          "metadata": {
            "tags": []
          },
          "execution_count": 108
        }
      ]
    },
    {
      "cell_type": "code",
      "metadata": {
        "colab": {
          "base_uri": "https://localhost:8080/",
          "height": 241
        },
        "id": "rypnPaAoCZRx",
        "outputId": "1ab05816-a4d2-4888-a7e7-2905bae1302c"
      },
      "source": [
        "#Distribuição de frequência em dias para o canal mais acessado em 2018 \"G\"\r\n",
        "G = df_18[df_18.channel=='G']\r\n",
        "\r\n",
        "G['day'].value_counts().sort_index(ascending=True).plot(figsize=(9,3))\r\n",
        "\r\n",
        "plt.xlabel(\"day\")\r\n",
        "plt.ylabel(\"Freq.\")\r\n",
        "plt.title(\"Tendência de acesso do canal 'G' dias de 2018\")\r\n",
        "\r\n",
        "plt.show()\r\n"
      ],
      "execution_count": null,
      "outputs": [
        {
          "output_type": "display_data",
          "data": {
            "image/png": "[encoded data removed]",
            "text/plain": [
              "<Figure size 648x216 with 1 Axes>"
            ]
          },
          "metadata": {
            "tags": [],
            "needs_background": "light"
          }
        }
      ]
    },
    {
      "cell_type": "code",
      "metadata": {
        "colab": {
          "base_uri": "https://localhost:8080/",
          "height": 241
        },
        "id": "-BSPCmfxHOhS",
        "outputId": "c05354b5-625d-41d3-de8c-62dadbfc0a79"
      },
      "source": [
        "#Distribuição de frequência em dias para o canal mais acessado em 2018 \"G\"\r\n",
        "G = df_18[df_18.channel=='G']\r\n",
        "\r\n",
        "G['week'].value_counts().sort_index(ascending=True).plot(figsize=(9,3))\r\n",
        "\r\n",
        "plt.xlabel(\"week\")\r\n",
        "plt.ylabel(\"Freq.\")\r\n",
        "plt.title(\"Tendência de acesso do canal 'G' dias de 2018\")\r\n",
        "\r\n",
        "plt.show()"
      ],
      "execution_count": null,
      "outputs": [
        {
          "output_type": "display_data",
          "data": {
            "image/png": "[encoded data removed]",
            "text/plain": [
              "<Figure size 648x216 with 1 Axes>"
            ]
          },
          "metadata": {
            "tags": [],
            "needs_background": "light"
          }
        }
      ]
    },
    {
      "cell_type": "markdown",
      "metadata": {
        "id": "YaDqa72zT5YC"
      },
      "source": [
        "Observando os graficos acima, podemos extrair alguns \r\n",
        "insight, com sua distrubuição de freqência de acessos no decorrer do tempo:\r\n",
        "\r\n",
        "*  Existe uma pico de acessos concentrado entre os **dias 7 e 9** tendendo a uma queda no dia 10 seguindo uma estabilidade dos acessos até o fim do mês.\r\n",
        "\r\n",
        "*  Quando olhamos no gráfico de semanas confirmamos, que a segunda semana dos meses de 2018 para o canal *G* tendem a ser bons.\r\n",
        "\r\n",
        "\r\n",
        "\r\n",
        "\r\n",
        "Caso seja necessário uma pesquisa especifica por `userId' ou cliente` o código de cliente basta digitar os 10 primeiros digitos no campo **search** abaixo entre aspas:"
      ]
    },
    {
      "cell_type": "code",
      "metadata": {
        "colab": {
          "base_uri": "https://localhost:8080/"
        },
        "id": "umcTnGOSOjFu",
        "outputId": "a3288502-9744-43cc-b260-95a5cde06201"
      },
      "source": [
        "#Campo de procura por ID de cliente\r\n",
        "\r\n",
        "search ='881152bb20'\r\n",
        "\r\n",
        "df_clean.loc[search]"
      ],
      "execution_count": null,
      "outputs": [
        {
          "output_type": "execute_result",
          "data": {
            "text/plain": [
              "userId                5094298f06\n",
              "revenue                       47\n",
              "createdAt    2017-03-06 00:00:00\n",
              "channel                        H\n",
              "ihcFrac                        1\n",
              "day                            6\n",
              "week                           0\n",
              "month                          3\n",
              "year                        2017\n",
              "Name: 881152bb20, dtype: object"
            ]
          },
          "metadata": {
            "tags": []
          },
          "execution_count": 158
        }
      ]
    },
    {
      "cell_type": "code",
      "metadata": {
        "id": "H-XoVkXtPnrp"
      },
      "source": [
        "#Gerar carga 'csv' do arquivo para trabalhar em plataformas de Self-Service BI\r\n",
        "\r\n",
        "df_clean.to_csv('Bd_amigo_edu.csv')"
      ],
      "execution_count": null,
      "outputs": []
    }
  ]
}
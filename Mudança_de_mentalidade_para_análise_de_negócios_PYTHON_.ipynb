{
  "nbformat": 4,
  "nbformat_minor": 0,
  "metadata": {
    "colab": {
      "name": "Mudança de mentalidade para análise de negócios PYTHON_.ipynb",
      "provenance": [],
      "collapsed_sections": [],
      "mount_file_id": "19eZ-vtXXQwQJB7Ht16315gqIpH6EbIX_",
      "authorship_tag": "ABX9TyPpRayNDfzTLX/GcBlNFv1r",
      "include_colab_link": true
    },
    "kernelspec": {
      "name": "python3",
      "display_name": "Python 3"
    }
  },
  "cells": [
    {
      "cell_type": "markdown",
      "metadata": {
        "id": "view-in-github",
        "colab_type": "text"
      },
      "source": [
        "<a href=\"https://colab.research.google.com/github/egustavo20/dataset_datascience/blob/master/Mudan%C3%A7a_de_mentalidade_para_an%C3%A1lise_de_neg%C3%B3cios_PYTHON_.ipynb\" target=\"_parent\"><img src=\"https://colab.research.google.com/assets/colab-badge.svg\" alt=\"Open In Colab\"/></a>"
      ]
    },
    {
      "cell_type": "markdown",
      "metadata": {
        "id": "GoKelYStAubE",
        "colab_type": "text"
      },
      "source": [
        "#**[PYTHON]** *Mudança de mentalidade para análise de negócios!*\n",
        "###*A transformação da informação em conhecimento, estruturado na análise de dados com a linguagem **Python** pode trazer diversas aplicações e possibilidades para otimizar e automatizar processos para tomadas de decisão do negócio.*###\n",
        "\n",
        "*by [egustavo20](https://www.linkedin.com/in/elcio-gustavo-soares-de-araujo-74a22068/)*\n",
        "_______________________________________________________________________\n",
        "\n",
        "\n",
        "\n",
        "<center><img width=\"85%\"<img src=\"https://raw.githubusercontent.com/egustavo20/dataset_datascience/master/PyBrain_port.jpg\"></center>\n"
      ]
    },
    {
      "cell_type": "markdown",
      "metadata": {
        "id": "EQeLaBefIbGN",
        "colab_type": "text"
      },
      "source": [
        "####Não é nenhuma novidade que os dados são cada vez mais presentes nos dias de hoje, pois podemos acompanhar muitos artigos e notícias divulgando a quantidade de dados que o mundo está gerando e sua curva acentuada com um crescimento exponencial. Desta forma o uso de linguagens de programação é cada vez mais necessário para modelar os dados que podem ser estruturados ou não estruturados, necessitando de um trabalho para a transformarção desse conjunto de informações em conhecimento. Esse tipo de trabalho pode ser o ponto chave para o sucesso do negócio, pois é através dele que será realizado aplicações e adaptações para novas abordagens e tecnológias utilizadas por grandes empresas e pequenas startups que explorando e analise os dados, conseguem extrair insights e alcançar em um curto espaço de tempo resultados fantásticos e desenvolvimento acelerado para novas soluções de problemas do cotidiano.\n",
        "\n",
        "####Não existe receite secreta, trata-se apenas de manipulação com dados historicos, realizando aplicações matemáticas e conceitos logicos que podem se tornar muito mais simples através da linguagem de programação ideal para analisar o cenário e mapear as oportunidades para  solucionar problemas. Essa mudança na forma de fazer e pensar analise pode tirar o seu modelo de negócio da inércia, automatizando processos dando maior agilidade e precisão para as informações. Pois como sabemos aquele que tem a informação primeiro estará sempre a dois passos a frente do seu concorrente, e para acompanhar o movimento dos grandes players do mercado é necessário sempre estar se reinventando. \n"
      ]
    },
    {
      "cell_type": "markdown",
      "metadata": {
        "id": "aqvYQ6UFjMQ9",
        "colab_type": "text"
      },
      "source": [
        "<center><img width=\"55%\"<img src=\"https://impulse.net.br/wp-content/uploads/2017/07/101783-gestao-do-conhecimento-como-aplicar-na-empresa-e-seus-beneficios-1-e1499257304530.jpg\"></center>\n",
        "\n",
        "\n",
        "\n",
        "\n",
        "\n",
        "\n",
        "<center>Fonte da imagem: encurtador.com.br/juALT</center>"
      ]
    },
    {
      "cell_type": "markdown",
      "metadata": {
        "id": "jLrSwiQejOMf",
        "colab_type": "text"
      },
      "source": [
        "####E quando falamos em linguagem de programação devemos iniciar **\"desmistificando\"** a aplicação do uso de códigos com a linguagem mais utilizada para desenvolvimento e aplicações de ciência de dados que é o **Python** pois ele pode ser bem intuitivo, e acessivel com plataformas de trabalho em notebooks online (**Colab e Jupyter**) mais ainda sim exige como qualquer outro novo conhecimento a ser estudado muita prática e repetição, e com poucos comandos podemos absorver uma pequena dose dessa ferramenta fantástica comparando a simplicidade, velocidade e interatividade que podemos obter com diversos recursos, com pouco conhecimento em programação."
      ]
    },
    {
      "cell_type": "markdown",
      "metadata": {
        "id": "A01X3lpCFi_Y",
        "colab_type": "text"
      },
      "source": [
        "##*Simulando uma situação de rotina de escritório! Para aplicação de código*\n",
        "Uma empresa logística especializada na gestão de monitoramento de transportes, trabalha com transportadoras terceiras de pequeno porte. As frotas das empresas prestadoras de serviços possuem tags instaladas para integração com o sistema ERP da empresa em real time. Desta forma o sistema recebe uma quantidade de dados massivos. E um dos gestores necessita de uma análise de resultados com informações dos últimos 3 anos de dados para uma tomada de decisão estratégica, daqui 1 hora e para executar tal demanda com agilidade, qualidade, precisão e praticidade iremos utilizar o python. \n",
        "\n"
      ]
    },
    {
      "cell_type": "code",
      "metadata": {
        "id": "I_pWhxaPjWP2",
        "colab_type": "code",
        "colab": {}
      },
      "source": [
        "#Importando algumas bibliotecas básicas de apoio python para suporte na analise dos dados\n",
        "import pandas as pd\n",
        "import matplotlib.pyplot as plt\n",
        "%matplotlib inline\n",
        "import numpy as np\n"
      ],
      "execution_count": null,
      "outputs": []
    },
    {
      "cell_type": "code",
      "metadata": {
        "id": "Byys2CeJtmmt",
        "colab_type": "code",
        "colab": {
          "base_uri": "https://localhost:8080/",
          "height": 204
        },
        "outputId": "b0fb45d4-9614-4f63-d775-88b1dcf505fa"
      },
      "source": [
        "#Importando o arquivo em \"csv\" armazenado no drive \n",
        "db=pd.read_csv(\"/content/drive/My Drive/testeartigo.csv\",sep=\";\",encoding=\"UTF-8\",decimal=str('.'),usecols=[0,1,2,3,4,5])\n",
        "db.dropna(inplace=True)\n",
        "\n",
        "db.head(5)"
      ],
      "execution_count": null,
      "outputs": [
        {
          "output_type": "execute_result",
          "data": {
            "text/html": [
              "<div>\n",
              "<style scoped>\n",
              "    .dataframe tbody tr th:only-of-type {\n",
              "        vertical-align: middle;\n",
              "    }\n",
              "\n",
              "    .dataframe tbody tr th {\n",
              "        vertical-align: top;\n",
              "    }\n",
              "\n",
              "    .dataframe thead th {\n",
              "        text-align: right;\n",
              "    }\n",
              "</style>\n",
              "<table border=\"1\" class=\"dataframe\">\n",
              "  <thead>\n",
              "    <tr style=\"text-align: right;\">\n",
              "      <th></th>\n",
              "      <th>Data</th>\n",
              "      <th>Raio médio(km)</th>\n",
              "      <th>Viagem/dia</th>\n",
              "      <th>Custo do frete</th>\n",
              "      <th>Tipo de Carga</th>\n",
              "      <th>Qtd.Caminhão</th>\n",
              "    </tr>\n",
              "  </thead>\n",
              "  <tbody>\n",
              "    <tr>\n",
              "      <th>0</th>\n",
              "      <td>03/04/2017</td>\n",
              "      <td>19.68</td>\n",
              "      <td>38</td>\n",
              "      <td>19000</td>\n",
              "      <td>Pesada</td>\n",
              "      <td>2</td>\n",
              "    </tr>\n",
              "    <tr>\n",
              "      <th>1</th>\n",
              "      <td>04/04/2017</td>\n",
              "      <td>20.88</td>\n",
              "      <td>111</td>\n",
              "      <td>27750</td>\n",
              "      <td>Leve</td>\n",
              "      <td>4</td>\n",
              "    </tr>\n",
              "    <tr>\n",
              "      <th>2</th>\n",
              "      <td>05/04/2017</td>\n",
              "      <td>17.82</td>\n",
              "      <td>68</td>\n",
              "      <td>10200</td>\n",
              "      <td>Média</td>\n",
              "      <td>2</td>\n",
              "    </tr>\n",
              "    <tr>\n",
              "      <th>3</th>\n",
              "      <td>06/04/2017</td>\n",
              "      <td>20.03</td>\n",
              "      <td>142</td>\n",
              "      <td>21300</td>\n",
              "      <td>Média</td>\n",
              "      <td>3</td>\n",
              "    </tr>\n",
              "    <tr>\n",
              "      <th>4</th>\n",
              "      <td>07/04/2017</td>\n",
              "      <td>20.61</td>\n",
              "      <td>176</td>\n",
              "      <td>44000</td>\n",
              "      <td>Leve</td>\n",
              "      <td>3</td>\n",
              "    </tr>\n",
              "  </tbody>\n",
              "</table>\n",
              "</div>"
            ],
            "text/plain": [
              "         Data  Raio médio(km)  ...  Tipo de Carga  Qtd.Caminhão\n",
              "0  03/04/2017           19.68  ...         Pesada             2\n",
              "1  04/04/2017           20.88  ...           Leve             4\n",
              "2  05/04/2017           17.82  ...          Média             2\n",
              "3  06/04/2017           20.03  ...          Média             3\n",
              "4  07/04/2017           20.61  ...           Leve             3\n",
              "\n",
              "[5 rows x 6 columns]"
            ]
          },
          "metadata": {
            "tags": []
          },
          "execution_count": 147
        }
      ]
    },
    {
      "cell_type": "code",
      "metadata": {
        "id": "10ZBmaAqiy5I",
        "colab_type": "code",
        "colab": {}
      },
      "source": [
        "#Criando novas *Features* de tempo á partir da coluna [Data] para analise de resultados em função do tempo\n",
        "db['Data']=pd.to_datetime(db['Data'])\n",
        "db[\"Ano\"]=db.Data.dt.year.astype('int64')\n",
        "db[\"Mês\"]=db.Data.dt.month.astype('int64')\n",
        "db[\"Semana\"]=db.Data.dt.weekday.astype('int64')\n"
      ],
      "execution_count": null,
      "outputs": []
    },
    {
      "cell_type": "code",
      "metadata": {
        "id": "xgN9amBPgJ85",
        "colab_type": "code",
        "colab": {
          "base_uri": "https://localhost:8080/",
          "height": 221
        },
        "outputId": "90a2a7e3-8cd7-44f1-f5c7-d762a847bafe"
      },
      "source": [
        "#Comprendendo os tipos de variavéis de dados que estão sendo gerado pelo sistema e dimensionando o tamanho do arquivo\n",
        "print(\"Tipos de variáveis dos dados:\")\n",
        "print(db.dtypes)\n",
        "\n",
        "print(\"Quantidade de linhasxColunas\",db.shape)"
      ],
      "execution_count": null,
      "outputs": [
        {
          "output_type": "stream",
          "text": [
            "Tipos de variáveis dos dados:\n",
            "Data              datetime64[ns]\n",
            "Raio médio(km)           float64\n",
            "Viagem/dia                 int64\n",
            "Custo do frete             int64\n",
            "Tipo de Carga             object\n",
            "Qtd.Caminhão               int64\n",
            "Ano                        int64\n",
            "Mês                        int64\n",
            "Semana                     int64\n",
            "dtype: object\n",
            "Quantidade de linhasxColunas (724, 9)\n"
          ],
          "name": "stdout"
        }
      ]
    },
    {
      "cell_type": "code",
      "metadata": {
        "id": "bt1cgEaYOnUl",
        "colab_type": "code",
        "colab": {
          "base_uri": "https://localhost:8080/",
          "height": 224
        },
        "outputId": "1a4ae042-4fb0-43dd-ad1b-92259c6d994e"
      },
      "source": [
        "#Com apenas um simples código \"describe\" podemos obter informações estátisticas de todo conjunto de dados\n",
        "# Count-Qtd. / Mean-Média / Std-Desvio Padrão / Max-Valor Máximo /Min-Valor Minimo \n",
        "db.groupby(\"Ano\").describe()"
      ],
      "execution_count": null,
      "outputs": [
        {
          "output_type": "execute_result",
          "data": {
            "text/html": [
              "<div>\n",
              "<style scoped>\n",
              "    .dataframe tbody tr th:only-of-type {\n",
              "        vertical-align: middle;\n",
              "    }\n",
              "\n",
              "    .dataframe tbody tr th {\n",
              "        vertical-align: top;\n",
              "    }\n",
              "\n",
              "    .dataframe thead tr th {\n",
              "        text-align: left;\n",
              "    }\n",
              "\n",
              "    .dataframe thead tr:last-of-type th {\n",
              "        text-align: right;\n",
              "    }\n",
              "</style>\n",
              "<table border=\"1\" class=\"dataframe\">\n",
              "  <thead>\n",
              "    <tr>\n",
              "      <th></th>\n",
              "      <th colspan=\"8\" halign=\"left\">Raio médio(km)</th>\n",
              "      <th colspan=\"8\" halign=\"left\">Viagem/dia</th>\n",
              "      <th colspan=\"8\" halign=\"left\">Custo do frete</th>\n",
              "      <th colspan=\"8\" halign=\"left\">Qtd.Caminhão</th>\n",
              "      <th colspan=\"8\" halign=\"left\">Mês</th>\n",
              "      <th colspan=\"8\" halign=\"left\">Semana</th>\n",
              "    </tr>\n",
              "    <tr>\n",
              "      <th></th>\n",
              "      <th>count</th>\n",
              "      <th>mean</th>\n",
              "      <th>std</th>\n",
              "      <th>min</th>\n",
              "      <th>25%</th>\n",
              "      <th>50%</th>\n",
              "      <th>75%</th>\n",
              "      <th>max</th>\n",
              "      <th>count</th>\n",
              "      <th>mean</th>\n",
              "      <th>std</th>\n",
              "      <th>min</th>\n",
              "      <th>25%</th>\n",
              "      <th>50%</th>\n",
              "      <th>75%</th>\n",
              "      <th>max</th>\n",
              "      <th>count</th>\n",
              "      <th>mean</th>\n",
              "      <th>std</th>\n",
              "      <th>min</th>\n",
              "      <th>25%</th>\n",
              "      <th>50%</th>\n",
              "      <th>75%</th>\n",
              "      <th>max</th>\n",
              "      <th>count</th>\n",
              "      <th>mean</th>\n",
              "      <th>std</th>\n",
              "      <th>min</th>\n",
              "      <th>25%</th>\n",
              "      <th>50%</th>\n",
              "      <th>75%</th>\n",
              "      <th>max</th>\n",
              "      <th>count</th>\n",
              "      <th>mean</th>\n",
              "      <th>std</th>\n",
              "      <th>min</th>\n",
              "      <th>25%</th>\n",
              "      <th>50%</th>\n",
              "      <th>75%</th>\n",
              "      <th>max</th>\n",
              "      <th>count</th>\n",
              "      <th>mean</th>\n",
              "      <th>std</th>\n",
              "      <th>min</th>\n",
              "      <th>25%</th>\n",
              "      <th>50%</th>\n",
              "      <th>75%</th>\n",
              "      <th>max</th>\n",
              "    </tr>\n",
              "    <tr>\n",
              "      <th>Ano</th>\n",
              "      <th></th>\n",
              "      <th></th>\n",
              "      <th></th>\n",
              "      <th></th>\n",
              "      <th></th>\n",
              "      <th></th>\n",
              "      <th></th>\n",
              "      <th></th>\n",
              "      <th></th>\n",
              "      <th></th>\n",
              "      <th></th>\n",
              "      <th></th>\n",
              "      <th></th>\n",
              "      <th></th>\n",
              "      <th></th>\n",
              "      <th></th>\n",
              "      <th></th>\n",
              "      <th></th>\n",
              "      <th></th>\n",
              "      <th></th>\n",
              "      <th></th>\n",
              "      <th></th>\n",
              "      <th></th>\n",
              "      <th></th>\n",
              "      <th></th>\n",
              "      <th></th>\n",
              "      <th></th>\n",
              "      <th></th>\n",
              "      <th></th>\n",
              "      <th></th>\n",
              "      <th></th>\n",
              "      <th></th>\n",
              "      <th></th>\n",
              "      <th></th>\n",
              "      <th></th>\n",
              "      <th></th>\n",
              "      <th></th>\n",
              "      <th></th>\n",
              "      <th></th>\n",
              "      <th></th>\n",
              "      <th></th>\n",
              "      <th></th>\n",
              "      <th></th>\n",
              "      <th></th>\n",
              "      <th></th>\n",
              "      <th></th>\n",
              "      <th></th>\n",
              "      <th></th>\n",
              "    </tr>\n",
              "  </thead>\n",
              "  <tbody>\n",
              "    <tr>\n",
              "      <th>2017</th>\n",
              "      <td>257.0</td>\n",
              "      <td>31.920856</td>\n",
              "      <td>3.653344</td>\n",
              "      <td>17.82</td>\n",
              "      <td>30.0200</td>\n",
              "      <td>32.18</td>\n",
              "      <td>34.210</td>\n",
              "      <td>44.48</td>\n",
              "      <td>257.0</td>\n",
              "      <td>604.167315</td>\n",
              "      <td>240.203233</td>\n",
              "      <td>17.0</td>\n",
              "      <td>414.00</td>\n",
              "      <td>676.0</td>\n",
              "      <td>806.0</td>\n",
              "      <td>896.0</td>\n",
              "      <td>257.0</td>\n",
              "      <td>158579.571984</td>\n",
              "      <td>110857.569977</td>\n",
              "      <td>2550.0</td>\n",
              "      <td>94350.0</td>\n",
              "      <td>122250.0</td>\n",
              "      <td>198000.0</td>\n",
              "      <td>442000.0</td>\n",
              "      <td>257.0</td>\n",
              "      <td>4.455253</td>\n",
              "      <td>1.208265</td>\n",
              "      <td>1.0</td>\n",
              "      <td>4.0</td>\n",
              "      <td>5.0</td>\n",
              "      <td>5.0</td>\n",
              "      <td>6.0</td>\n",
              "      <td>257.0</td>\n",
              "      <td>7.268482</td>\n",
              "      <td>2.896978</td>\n",
              "      <td>1.0</td>\n",
              "      <td>5.0</td>\n",
              "      <td>7.0</td>\n",
              "      <td>10.0</td>\n",
              "      <td>12.0</td>\n",
              "      <td>257.0</td>\n",
              "      <td>2.976654</td>\n",
              "      <td>1.997909</td>\n",
              "      <td>0.0</td>\n",
              "      <td>1.0</td>\n",
              "      <td>3.0</td>\n",
              "      <td>5.0</td>\n",
              "      <td>6.0</td>\n",
              "    </tr>\n",
              "    <tr>\n",
              "      <th>2018</th>\n",
              "      <td>269.0</td>\n",
              "      <td>32.337472</td>\n",
              "      <td>3.092660</td>\n",
              "      <td>21.36</td>\n",
              "      <td>30.5000</td>\n",
              "      <td>32.40</td>\n",
              "      <td>34.270</td>\n",
              "      <td>44.48</td>\n",
              "      <td>269.0</td>\n",
              "      <td>620.736059</td>\n",
              "      <td>219.886336</td>\n",
              "      <td>17.0</td>\n",
              "      <td>478.00</td>\n",
              "      <td>678.0</td>\n",
              "      <td>800.0</td>\n",
              "      <td>896.0</td>\n",
              "      <td>269.0</td>\n",
              "      <td>161303.903346</td>\n",
              "      <td>104010.449898</td>\n",
              "      <td>6750.0</td>\n",
              "      <td>95700.0</td>\n",
              "      <td>125400.0</td>\n",
              "      <td>202000.0</td>\n",
              "      <td>436500.0</td>\n",
              "      <td>269.0</td>\n",
              "      <td>4.405204</td>\n",
              "      <td>1.256079</td>\n",
              "      <td>1.0</td>\n",
              "      <td>4.0</td>\n",
              "      <td>5.0</td>\n",
              "      <td>5.0</td>\n",
              "      <td>7.0</td>\n",
              "      <td>269.0</td>\n",
              "      <td>6.985130</td>\n",
              "      <td>2.999963</td>\n",
              "      <td>1.0</td>\n",
              "      <td>5.0</td>\n",
              "      <td>7.0</td>\n",
              "      <td>10.0</td>\n",
              "      <td>12.0</td>\n",
              "      <td>269.0</td>\n",
              "      <td>3.026022</td>\n",
              "      <td>1.987665</td>\n",
              "      <td>0.0</td>\n",
              "      <td>1.0</td>\n",
              "      <td>3.0</td>\n",
              "      <td>5.0</td>\n",
              "      <td>6.0</td>\n",
              "    </tr>\n",
              "    <tr>\n",
              "      <th>2019</th>\n",
              "      <td>198.0</td>\n",
              "      <td>32.147525</td>\n",
              "      <td>2.765815</td>\n",
              "      <td>21.36</td>\n",
              "      <td>30.4625</td>\n",
              "      <td>32.25</td>\n",
              "      <td>34.195</td>\n",
              "      <td>41.28</td>\n",
              "      <td>198.0</td>\n",
              "      <td>660.747475</td>\n",
              "      <td>210.378670</td>\n",
              "      <td>17.0</td>\n",
              "      <td>560.25</td>\n",
              "      <td>749.5</td>\n",
              "      <td>817.5</td>\n",
              "      <td>896.0</td>\n",
              "      <td>198.0</td>\n",
              "      <td>178202.272727</td>\n",
              "      <td>116615.642948</td>\n",
              "      <td>2550.0</td>\n",
              "      <td>99450.0</td>\n",
              "      <td>127875.0</td>\n",
              "      <td>218125.0</td>\n",
              "      <td>436000.0</td>\n",
              "      <td>198.0</td>\n",
              "      <td>27.101010</td>\n",
              "      <td>6.717648</td>\n",
              "      <td>0.0</td>\n",
              "      <td>27.0</td>\n",
              "      <td>29.0</td>\n",
              "      <td>30.0</td>\n",
              "      <td>38.0</td>\n",
              "      <td>198.0</td>\n",
              "      <td>6.227273</td>\n",
              "      <td>2.632068</td>\n",
              "      <td>1.0</td>\n",
              "      <td>4.0</td>\n",
              "      <td>6.0</td>\n",
              "      <td>8.0</td>\n",
              "      <td>12.0</td>\n",
              "      <td>198.0</td>\n",
              "      <td>3.000000</td>\n",
              "      <td>2.005070</td>\n",
              "      <td>0.0</td>\n",
              "      <td>1.0</td>\n",
              "      <td>3.0</td>\n",
              "      <td>5.0</td>\n",
              "      <td>6.0</td>\n",
              "    </tr>\n",
              "  </tbody>\n",
              "</table>\n",
              "</div>"
            ],
            "text/plain": [
              "     Raio médio(km)                              ... Semana               \n",
              "              count       mean       std    min  ...    25%  50%  75%  max\n",
              "Ano                                              ...                      \n",
              "2017          257.0  31.920856  3.653344  17.82  ...    1.0  3.0  5.0  6.0\n",
              "2018          269.0  32.337472  3.092660  21.36  ...    1.0  3.0  5.0  6.0\n",
              "2019          198.0  32.147525  2.765815  21.36  ...    1.0  3.0  5.0  6.0\n",
              "\n",
              "[3 rows x 48 columns]"
            ]
          },
          "metadata": {
            "tags": []
          },
          "execution_count": 199
        }
      ]
    },
    {
      "cell_type": "code",
      "metadata": {
        "id": "AbpNbnmsUdFM",
        "colab_type": "code",
        "colab": {}
      },
      "source": [
        "#Criando um novo data frame apenas separado por \"ANO\" filtrando da base principal com cód. \"loc\"\n",
        "df_19=db.loc[db['Ano']==2019]\n",
        "df_18=db.loc[db['Ano']==2018]\n",
        "df_17=db.loc[db['Ano']==2017]"
      ],
      "execution_count": null,
      "outputs": []
    },
    {
      "cell_type": "code",
      "metadata": {
        "id": "JMVnrwhJTkl5",
        "colab_type": "code",
        "colab": {
          "base_uri": "https://localhost:8080/",
          "height": 68
        },
        "outputId": "31a31c57-d6ec-4f1d-c372-2b998927e4a3"
      },
      "source": [
        "print(\"Custo operacional Total 2017-R$\",df_17['Custo do frete'].sum().astype('float64'))\n",
        "print(\"Custo operacional Total 2018-R$\",df_18['Custo do frete'].sum().astype('float64'))\n",
        "print(\"Custo operacional Total 2019-R$\",df_19['Custo do frete'].sum().astype('float64'))"
      ],
      "execution_count": null,
      "outputs": [
        {
          "output_type": "stream",
          "text": [
            "Custo operacional Total 2017-R$ 40754950.0\n",
            "Custo operacional Total 2018-R$ 43390750.0\n",
            "Custo operacional Total 2019-R$ 35284050.0\n"
          ],
          "name": "stdout"
        }
      ]
    },
    {
      "cell_type": "markdown",
      "metadata": {
        "id": "ckSzUEE8VsvU",
        "colab_type": "text"
      },
      "source": [
        "##Com os comando acima podemos extrair alguns insigths interessantes para refeletir os resultados realizados:\n",
        "\n",
        "\n",
        "\n",
        "*   Podemos observar que o ano de 2017 tivemos o menor Raio médio(km) percorrido com 31.92km fechando com um custo operacional de R$ 40.754.950,0 com uma quantidade média de 604 de viagens realizadas.\n",
        "\n",
        "*   Para o ano de 2018 tivemos um aumento no Raio médio(km) percorrido com 32.33km uma diferença baixa quando comparado as variações em percentual (25%, 50% e 75%) dos dados. E levando em consideração um aumento de raio praticamento despresivél o ponto a ser questionado é o aumento significativo no custo operacional que fechou em R$43.390.750,0 com uma média de 620 viagens realizadas, ou seja apenas 16 viagens a mais que 2017.\n",
        "\n",
        "*   Em 2019 tivemos uma melhoras expressiva no custo operacional fechado em R$352.840.50,0 reflexo da boa estratégia utilizando um número inferior de caminhões comparado aos anos anteriores rodando com média de 198 frotas disponivéis. Um ponto a ser considerado é que tivemos um aumento na quantidade de viagens com total de 660 viagens realizada ainda que o Raio médio(km) percorrido de 32.14 tenha mantido o valor próximo do ano anterior, a quantidade de frotas utizadas foi menor e tivemos uma redução de custo. Para entender o oque aconteceu estratificaremos o custo de viagens por tipo de carga. \n",
        "\n",
        "\n",
        "\n",
        "\n"
      ]
    },
    {
      "cell_type": "code",
      "metadata": {
        "id": "hdbWn4iiWKoS",
        "colab_type": "code",
        "colab": {}
      },
      "source": [
        "#Atribuindo váriaveis para as colunas do dataframe do ano de 2019\n",
        "x=df_19['Tipo de Carga']\n",
        "z=df_19['Mês']\n",
        "y=df_19['Custo do frete'].apply(lambda x: str(x).replace(\",\",\".\")).astype('float64').astype('int64')\n",
        "k=df_19['Viagem/dia']\n",
        "l=df_19['Qtd.Caminhão']\n",
        "s=df_19['Data']\n"
      ],
      "execution_count": null,
      "outputs": []
    },
    {
      "cell_type": "code",
      "metadata": {
        "id": "7nxdE_s49fU_",
        "colab_type": "code",
        "colab": {
          "base_uri": "https://localhost:8080/",
          "height": 408
        },
        "outputId": "d68a1994-a0fb-4bd2-dc29-91e9a34832c6"
      },
      "source": [
        "#Plotando gráficos de barras para estratificar as informações de 2019\n",
        "plt.style.use(\"ggplot\")\n",
        "\n",
        "fig,(ax1,ax2)= plt.subplots(1,2,figsize=(15,6))\n",
        "\n",
        "ax1.hist(x)\n",
        "ax2.bar(z,y)\n",
        "\n",
        "ax1.set(title=\"Gráfico de Barras Verticais\",ylabel=\"Eixo Custo do frete\")\n",
        "ax2.set(title=\"Gráfico de Barras Horizontais\", xlabel=\"Eixo Mês\", ylabel=\"Eixo Custo do frete\")\n",
        "\n",
        "plt.show()"
      ],
      "execution_count": null,
      "outputs": [
        {
          "output_type": "display_data",
          "data": {
            "image/png": "[encoded data removed]",
            "text/plain": [
              "<Figure size 1080x432 with 2 Axes>"
            ]
          },
          "metadata": {
            "tags": []
          }
        }
      ]
    },
    {
      "cell_type": "code",
      "metadata": {
        "id": "d69g5i1OR53l",
        "colab_type": "code",
        "colab": {
          "base_uri": "https://localhost:8080/",
          "height": 173
        },
        "outputId": "aecb7da2-d57f-444d-a7db-6a9bd5eac892"
      },
      "source": [
        "#Detalhamento de cargas do ano de \"2019\"\n",
        "df_19.groupby('Tipo de Carga').sum()"
      ],
      "execution_count": null,
      "outputs": [
        {
          "output_type": "execute_result",
          "data": {
            "text/html": [
              "<div>\n",
              "<style scoped>\n",
              "    .dataframe tbody tr th:only-of-type {\n",
              "        vertical-align: middle;\n",
              "    }\n",
              "\n",
              "    .dataframe tbody tr th {\n",
              "        vertical-align: top;\n",
              "    }\n",
              "\n",
              "    .dataframe thead th {\n",
              "        text-align: right;\n",
              "    }\n",
              "</style>\n",
              "<table border=\"1\" class=\"dataframe\">\n",
              "  <thead>\n",
              "    <tr style=\"text-align: right;\">\n",
              "      <th></th>\n",
              "      <th>Raio médio(km)</th>\n",
              "      <th>Viagem/dia</th>\n",
              "      <th>Custo do frete</th>\n",
              "      <th>Qtd.Caminhão</th>\n",
              "      <th>Ano</th>\n",
              "      <th>Mês</th>\n",
              "      <th>Semana</th>\n",
              "    </tr>\n",
              "    <tr>\n",
              "      <th>Tipo de Carga</th>\n",
              "      <th></th>\n",
              "      <th></th>\n",
              "      <th></th>\n",
              "      <th></th>\n",
              "      <th></th>\n",
              "      <th></th>\n",
              "      <th></th>\n",
              "    </tr>\n",
              "  </thead>\n",
              "  <tbody>\n",
              "    <tr>\n",
              "      <th>Leve</th>\n",
              "      <td>1736.87</td>\n",
              "      <td>37581</td>\n",
              "      <td>9395250</td>\n",
              "      <td>1470</td>\n",
              "      <td>109026</td>\n",
              "      <td>342</td>\n",
              "      <td>157</td>\n",
              "    </tr>\n",
              "    <tr>\n",
              "      <th>Média</th>\n",
              "      <td>3017.74</td>\n",
              "      <td>59242</td>\n",
              "      <td>8886300</td>\n",
              "      <td>2584</td>\n",
              "      <td>189786</td>\n",
              "      <td>584</td>\n",
              "      <td>292</td>\n",
              "    </tr>\n",
              "    <tr>\n",
              "      <th>Pesada</th>\n",
              "      <td>1610.60</td>\n",
              "      <td>34005</td>\n",
              "      <td>17002500</td>\n",
              "      <td>1312</td>\n",
              "      <td>100950</td>\n",
              "      <td>307</td>\n",
              "      <td>145</td>\n",
              "    </tr>\n",
              "  </tbody>\n",
              "</table>\n",
              "</div>"
            ],
            "text/plain": [
              "               Raio médio(km)  Viagem/dia  Custo do frete  ...     Ano  Mês  Semana\n",
              "Tipo de Carga                                              ...                     \n",
              "Leve                  1736.87       37581         9395250  ...  109026  342     157\n",
              "Média                 3017.74       59242         8886300  ...  189786  584     292\n",
              "Pesada                1610.60       34005        17002500  ...  100950  307     145\n",
              "\n",
              "[3 rows x 7 columns]"
            ]
          },
          "metadata": {
            "tags": []
          },
          "execution_count": 202
        }
      ]
    },
    {
      "cell_type": "code",
      "metadata": {
        "id": "50RQcD6TfiVt",
        "colab_type": "code",
        "colab": {
          "base_uri": "https://localhost:8080/",
          "height": 68
        },
        "outputId": "8a5cc52e-7e2b-4578-edf4-76d8a0dd6d06"
      },
      "source": [
        "#MIX de distribuição por tipo de carga considerando o dimensionamento percentual do custo ideal\n",
        "print(\"MIX_LEVE=\", 9395250/df_19['Custo do frete'].sum().astype('float64').astype('int64')*100)\n",
        "print(\"MIX_MED=\",8886300\t/df_19['Custo do frete'].sum().astype('float64').astype('int64')*100)\n",
        "print(\"MIX_PES=\",17002500/df_19['Custo do frete'].sum().astype('float64').astype('int64')*100)"
      ],
      "execution_count": null,
      "outputs": [
        {
          "output_type": "stream",
          "text": [
            "MIX_LEVE= 26.627470485956117\n",
            "MIX_MED= 25.185034030957333\n",
            "MIX_PES= 48.18749548308655\n"
          ],
          "name": "stdout"
        }
      ]
    },
    {
      "cell_type": "markdown",
      "metadata": {
        "id": "5qKDZbyMe3JP",
        "colab_type": "text"
      },
      "source": [
        "###**Conclusão**\n",
        "\n",
        "\n",
        "*   O racional para estratégia de gestão de custo de transporte para o ano de 2019 teve como fator chave junto a redução na quantidade de frotas, o dimensionamento do mix percentual de custo por tipo de carga. No gráfico em função dos meses podemos acompanhar a curva de redução gradativa para os custos operacionais distribuido pelos meses.\n",
        "\n",
        "\n",
        "*   Atráves dessa abordagem poderiamos adotar como modelo inicial os valores percentuais para cada MIX por carga como valor valor tendo como base os resultados positivos mostrados no estudo acima. E com o decorrer do tempo a medida que o banco de dados for reabastecido de informações o python poderia realizar através de modelos de machine learning a calibração do MIX percentual com um simples modelo de equação linear treinando o modelo para aproximar cada vez mais os valores percentuais para cada MIX. Esse tipo de aplicação de treinamento de modelos que faz de programação uma ferramenta eficiente e poderosa, e assim como apontado anteriormente o python comparado a outras linguagens é uma ferramenta muito mais simples e intuitiva onde independente do seu nivél de conhecimento em programação é possivél programar.\n"
      ]
    }
  ]
}